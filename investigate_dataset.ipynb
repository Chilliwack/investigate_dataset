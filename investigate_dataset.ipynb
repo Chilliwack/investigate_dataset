{
 "cells": [
  {
   "cell_type": "markdown",
   "metadata": {},
   "source": [
    "# Project: Investigate a Dataset - Gapminder World Data: Exploring GDP, Government Health Spending, Life Expectancy, and Suicides"
   ]
  },
  {
   "cell_type": "markdown",
   "metadata": {},
   "source": [
    "## Table of Contents\n",
    "<ul>\n",
    "<li><a href=\"#intro\">Introduction</a></li>\n",
    "<li><a href=\"#wrangling\">Data Wrangling</a></li>\n",
    "<li><a href=\"#eda\">Exploratory Data Analysis</a></li>\n",
    "<li><a href=\"#conclusions\">Conclusions</a></li></ul>"
   ]
  },
  {
   "cell_type": "markdown",
   "metadata": {},
   "source": [
    "<a id='intro'></a>\n",
    "## Introduction\n",
    "\n",
    "This analysis uses data from [Gapminder World](https://www.google.com/url?q=http://www.gapminder.org/data/&sa=D&ust=1532469042121000) which has collected a lot of information about how people live their lives in different countries, tracked across the years, and on a number of different indicators. This analysis will use the following indicators.\n",
    "\n",
    "* **GDP total, yearly growth** _(gdp_total_yearly_growth.csv)_ - based on gapminder's GDP per capita, PPP. _sourceLink: https://www.rug.nl/ggdc/productivity/pwt/_ - [Direct Link](https://www.gapminder.org/tools/#$state$marker$axis_y$which=gdp_total_yearly_growth&domainMin:null&domainMax:null&zoomedMin:null&zoomedMax:null&scaleType=linear&spaceRef:null;;;&chart-type=linechart)\n",
    "\n",
    "\n",
    "* **Govt. health spending per person (international money)** _(government_health_spending_per_person_international_dollar.csv\n",
    ")_ - the average health expenditure per person that has been paid by government entities, expressed in international dollars using PPP (Purchasing Power Parity) _sourceLink: https://www.who.int/gho/en_ -  [Direct Link](https://www.gapminder.org/tools/#$state$marker$axis_y$which=government_health_spending_per_person_international_dollar&domainMin:null&domainMax:null&zoomedMin:null&zoomedMax:null&scaleType=log&spaceRef:null;;;&chart-type=linechart)\n",
    "\n",
    "\n",
    "* **Life expectancy (years)** _(life_expectancy_years.csv)_ - the average number of years a newborn child would live if current mortality patterns were to stay the same. _sourceLink: http://gapm.io/ilex - [Direct Link](https://www.gapminder.org/tools/#$state$marker$axis_y$which=life_expectancy_years&domainMin:null&domainMax:null&zoomedMin:null&zoomedMax:null&scaleType=linear&spaceRef:null;;;&chart-type=bubbles)\n",
    "\n",
    "\n",
    "* **Suicides (per 100000 people)** _(suicide_per_100000_people.csv)_ - mortality due to self-inflicted injury, per 100,000 standard population, age adjusted. This rate is calculated as if all countries had the same age compostion of the population. _sourceLink: https://ghdx.healthdata.org/gbd-2017_ - [Direct Link](https://www.gapminder.org/tools/#$state$marker$axis_y$which=suicide_per_100000_people&domainMin:null&domainMax:null&zoomedMin:null&zoomedMax:null&scaleType=linear&spaceRef:null;;;&chart-type=bubbles)\n",
    "\n",
    "### Questions\n",
    "\n",
    "1. What countries have the highest suicides?\n",
    "2. What countries have the highest life expectancy?\n",
    "3. How has life expectancy trended overtime compared to suicides? How has health spending trended?\n",
    "4. Is there a relationship between government health spending and suicides?"
   ]
  },
  {
   "cell_type": "markdown",
   "metadata": {},
   "source": [
    "#### Import packages"
   ]
  },
  {
   "cell_type": "code",
   "execution_count": 1,
   "metadata": {},
   "outputs": [],
   "source": [
    "import numpy as np\n",
    "import pandas as pd\n",
    "import matplotlib.pyplot as plt\n",
    "import seaborn as sn\n",
    "#% matplotlib inline # Getting error - UsageError: Line magic function `%` not found."
   ]
  },
  {
   "cell_type": "markdown",
   "metadata": {},
   "source": [
    "#### Read in data"
   ]
  },
  {
   "cell_type": "code",
   "execution_count": 2,
   "metadata": {},
   "outputs": [],
   "source": [
    "# GDP total, yearly growth\n",
    "gpd_df = pd.read_csv('data/gdp_total_yearly_growth.csv')\n",
    "\n",
    "# Govt. health spending per person (international $) \n",
    "health_df = pd.read_csv('data/government_health_spending_per_person_international_dollar.csv')\n",
    "\n",
    "# Life expectancy (years)\n",
    "life_df = pd.read_csv('data/life_expectancy_years.csv')\n",
    "\n",
    "# Suicides (per 100000 people)\n",
    "suicide_df = pd.read_csv('data/suicide_per_100000_people.csv')"
   ]
  },
  {
   "cell_type": "markdown",
   "metadata": {},
   "source": [
    "<a id='wrangling'></a>\n",
    "## Data Wrangling\n",
    "\n",
    "### General Properties"
   ]
  },
  {
   "cell_type": "markdown",
   "metadata": {},
   "source": [
    "#### GDP total, yearly growth"
   ]
  },
  {
   "cell_type": "code",
   "execution_count": 3,
   "metadata": {},
   "outputs": [
    {
     "name": "stdout",
     "output_type": "stream",
     "text": [
      "<class 'pandas.core.frame.DataFrame'>\n",
      "RangeIndex: 194 entries, 0 to 193\n",
      "Columns: 214 entries, country to 2013\n",
      "dtypes: float64(213), object(1)\n",
      "memory usage: 324.5+ KB\n"
     ]
    },
    {
     "data": {
      "text/html": [
       "<div>\n",
       "<style scoped>\n",
       "    .dataframe tbody tr th:only-of-type {\n",
       "        vertical-align: middle;\n",
       "    }\n",
       "\n",
       "    .dataframe tbody tr th {\n",
       "        vertical-align: top;\n",
       "    }\n",
       "\n",
       "    .dataframe thead th {\n",
       "        text-align: right;\n",
       "    }\n",
       "</style>\n",
       "<table border=\"1\" class=\"dataframe\">\n",
       "  <thead>\n",
       "    <tr style=\"text-align: right;\">\n",
       "      <th></th>\n",
       "      <th>country</th>\n",
       "      <th>1801</th>\n",
       "      <th>1802</th>\n",
       "      <th>1803</th>\n",
       "      <th>1804</th>\n",
       "      <th>1805</th>\n",
       "      <th>1806</th>\n",
       "      <th>1807</th>\n",
       "      <th>1808</th>\n",
       "      <th>1809</th>\n",
       "      <th>...</th>\n",
       "      <th>2004</th>\n",
       "      <th>2005</th>\n",
       "      <th>2006</th>\n",
       "      <th>2007</th>\n",
       "      <th>2008</th>\n",
       "      <th>2009</th>\n",
       "      <th>2010</th>\n",
       "      <th>2011</th>\n",
       "      <th>2012</th>\n",
       "      <th>2013</th>\n",
       "    </tr>\n",
       "  </thead>\n",
       "  <tbody>\n",
       "    <tr>\n",
       "      <th>0</th>\n",
       "      <td>Afghanistan</td>\n",
       "      <td>0.000</td>\n",
       "      <td>0.000</td>\n",
       "      <td>0.000</td>\n",
       "      <td>0.000</td>\n",
       "      <td>0.000</td>\n",
       "      <td>0.000</td>\n",
       "      <td>0.000</td>\n",
       "      <td>0.000</td>\n",
       "      <td>0.000</td>\n",
       "      <td>...</td>\n",
       "      <td>6.55</td>\n",
       "      <td>12.40</td>\n",
       "      <td>4.56</td>\n",
       "      <td>13.600</td>\n",
       "      <td>2.50</td>\n",
       "      <td>20.20</td>\n",
       "      <td>8.04</td>\n",
       "      <td>6.98</td>\n",
       "      <td>14.80</td>\n",
       "      <td>4.47</td>\n",
       "    </tr>\n",
       "    <tr>\n",
       "      <th>1</th>\n",
       "      <td>Albania</td>\n",
       "      <td>0.418</td>\n",
       "      <td>0.418</td>\n",
       "      <td>0.418</td>\n",
       "      <td>0.418</td>\n",
       "      <td>0.418</td>\n",
       "      <td>0.418</td>\n",
       "      <td>0.418</td>\n",
       "      <td>0.418</td>\n",
       "      <td>0.418</td>\n",
       "      <td>...</td>\n",
       "      <td>5.97</td>\n",
       "      <td>5.53</td>\n",
       "      <td>5.77</td>\n",
       "      <td>5.850</td>\n",
       "      <td>7.24</td>\n",
       "      <td>3.28</td>\n",
       "      <td>3.36</td>\n",
       "      <td>2.86</td>\n",
       "      <td>2.64</td>\n",
       "      <td>2.06</td>\n",
       "    </tr>\n",
       "    <tr>\n",
       "      <th>2</th>\n",
       "      <td>Algeria</td>\n",
       "      <td>0.356</td>\n",
       "      <td>0.356</td>\n",
       "      <td>0.356</td>\n",
       "      <td>0.356</td>\n",
       "      <td>0.356</td>\n",
       "      <td>0.356</td>\n",
       "      <td>0.356</td>\n",
       "      <td>0.356</td>\n",
       "      <td>0.356</td>\n",
       "      <td>...</td>\n",
       "      <td>5.41</td>\n",
       "      <td>5.38</td>\n",
       "      <td>1.72</td>\n",
       "      <td>3.420</td>\n",
       "      <td>2.02</td>\n",
       "      <td>1.70</td>\n",
       "      <td>3.57</td>\n",
       "      <td>2.31</td>\n",
       "      <td>2.58</td>\n",
       "      <td>2.99</td>\n",
       "    </tr>\n",
       "    <tr>\n",
       "      <th>3</th>\n",
       "      <td>Andorra</td>\n",
       "      <td>0.166</td>\n",
       "      <td>0.166</td>\n",
       "      <td>0.166</td>\n",
       "      <td>0.166</td>\n",
       "      <td>0.166</td>\n",
       "      <td>0.166</td>\n",
       "      <td>0.166</td>\n",
       "      <td>0.166</td>\n",
       "      <td>0.166</td>\n",
       "      <td>...</td>\n",
       "      <td>8.64</td>\n",
       "      <td>7.80</td>\n",
       "      <td>4.97</td>\n",
       "      <td>0.161</td>\n",
       "      <td>-4.22</td>\n",
       "      <td>-5.06</td>\n",
       "      <td>-3.43</td>\n",
       "      <td>-2.83</td>\n",
       "      <td>NaN</td>\n",
       "      <td>NaN</td>\n",
       "    </tr>\n",
       "    <tr>\n",
       "      <th>4</th>\n",
       "      <td>Angola</td>\n",
       "      <td>0.425</td>\n",
       "      <td>0.425</td>\n",
       "      <td>0.425</td>\n",
       "      <td>0.425</td>\n",
       "      <td>0.425</td>\n",
       "      <td>0.425</td>\n",
       "      <td>0.425</td>\n",
       "      <td>0.425</td>\n",
       "      <td>0.425</td>\n",
       "      <td>...</td>\n",
       "      <td>11.20</td>\n",
       "      <td>20.50</td>\n",
       "      <td>18.60</td>\n",
       "      <td>23.200</td>\n",
       "      <td>13.80</td>\n",
       "      <td>2.39</td>\n",
       "      <td>3.45</td>\n",
       "      <td>3.87</td>\n",
       "      <td>4.96</td>\n",
       "      <td>3.79</td>\n",
       "    </tr>\n",
       "  </tbody>\n",
       "</table>\n",
       "<p>5 rows × 214 columns</p>\n",
       "</div>"
      ],
      "text/plain": [
       "       country   1801   1802   1803   1804   1805   1806   1807   1808   1809  \\\n",
       "0  Afghanistan  0.000  0.000  0.000  0.000  0.000  0.000  0.000  0.000  0.000   \n",
       "1      Albania  0.418  0.418  0.418  0.418  0.418  0.418  0.418  0.418  0.418   \n",
       "2      Algeria  0.356  0.356  0.356  0.356  0.356  0.356  0.356  0.356  0.356   \n",
       "3      Andorra  0.166  0.166  0.166  0.166  0.166  0.166  0.166  0.166  0.166   \n",
       "4       Angola  0.425  0.425  0.425  0.425  0.425  0.425  0.425  0.425  0.425   \n",
       "\n",
       "   ...   2004   2005   2006    2007   2008   2009  2010  2011   2012  2013  \n",
       "0  ...   6.55  12.40   4.56  13.600   2.50  20.20  8.04  6.98  14.80  4.47  \n",
       "1  ...   5.97   5.53   5.77   5.850   7.24   3.28  3.36  2.86   2.64  2.06  \n",
       "2  ...   5.41   5.38   1.72   3.420   2.02   1.70  3.57  2.31   2.58  2.99  \n",
       "3  ...   8.64   7.80   4.97   0.161  -4.22  -5.06 -3.43 -2.83    NaN   NaN  \n",
       "4  ...  11.20  20.50  18.60  23.200  13.80   2.39  3.45  3.87   4.96  3.79  \n",
       "\n",
       "[5 rows x 214 columns]"
      ]
     },
     "execution_count": 3,
     "metadata": {},
     "output_type": "execute_result"
    }
   ],
   "source": [
    "# Load your data and print out a few lines. Perform operations to inspect data\n",
    "# types and look for instances of missing or possibly errant data.\n",
    "gpd_df.info()\n",
    "gpd_df.head()"
   ]
  },
  {
   "cell_type": "markdown",
   "metadata": {},
   "source": [
    "#### Govt. health spending per person (international $) "
   ]
  },
  {
   "cell_type": "code",
   "execution_count": 4,
   "metadata": {
    "scrolled": false
   },
   "outputs": [
    {
     "name": "stdout",
     "output_type": "stream",
     "text": [
      "<class 'pandas.core.frame.DataFrame'>\n",
      "RangeIndex: 190 entries, 0 to 189\n",
      "Data columns (total 17 columns):\n",
      " #   Column   Non-Null Count  Dtype  \n",
      "---  ------   --------------  -----  \n",
      " 0   country  190 non-null    object \n",
      " 1   1995     187 non-null    float64\n",
      " 2   1996     188 non-null    float64\n",
      " 3   1997     188 non-null    float64\n",
      " 4   1998     189 non-null    float64\n",
      " 5   1999     189 non-null    float64\n",
      " 6   2000     189 non-null    float64\n",
      " 7   2001     189 non-null    float64\n",
      " 8   2002     188 non-null    float64\n",
      " 9   2003     188 non-null    float64\n",
      " 10  2004     188 non-null    float64\n",
      " 11  2005     188 non-null    float64\n",
      " 12  2006     188 non-null    float64\n",
      " 13  2007     188 non-null    float64\n",
      " 14  2008     188 non-null    float64\n",
      " 15  2009     188 non-null    float64\n",
      " 16  2010     185 non-null    float64\n",
      "dtypes: float64(16), object(1)\n",
      "memory usage: 25.4+ KB\n"
     ]
    },
    {
     "data": {
      "text/html": [
       "<div>\n",
       "<style scoped>\n",
       "    .dataframe tbody tr th:only-of-type {\n",
       "        vertical-align: middle;\n",
       "    }\n",
       "\n",
       "    .dataframe tbody tr th {\n",
       "        vertical-align: top;\n",
       "    }\n",
       "\n",
       "    .dataframe thead th {\n",
       "        text-align: right;\n",
       "    }\n",
       "</style>\n",
       "<table border=\"1\" class=\"dataframe\">\n",
       "  <thead>\n",
       "    <tr style=\"text-align: right;\">\n",
       "      <th></th>\n",
       "      <th>country</th>\n",
       "      <th>1995</th>\n",
       "      <th>1996</th>\n",
       "      <th>1997</th>\n",
       "      <th>1998</th>\n",
       "      <th>1999</th>\n",
       "      <th>2000</th>\n",
       "      <th>2001</th>\n",
       "      <th>2002</th>\n",
       "      <th>2003</th>\n",
       "      <th>2004</th>\n",
       "      <th>2005</th>\n",
       "      <th>2006</th>\n",
       "      <th>2007</th>\n",
       "      <th>2008</th>\n",
       "      <th>2009</th>\n",
       "      <th>2010</th>\n",
       "    </tr>\n",
       "  </thead>\n",
       "  <tbody>\n",
       "    <tr>\n",
       "      <th>0</th>\n",
       "      <td>Afghanistan</td>\n",
       "      <td>NaN</td>\n",
       "      <td>NaN</td>\n",
       "      <td>NaN</td>\n",
       "      <td>NaN</td>\n",
       "      <td>NaN</td>\n",
       "      <td>NaN</td>\n",
       "      <td>NaN</td>\n",
       "      <td>1.24</td>\n",
       "      <td>2.03</td>\n",
       "      <td>2.51</td>\n",
       "      <td>4.11</td>\n",
       "      <td>4.27</td>\n",
       "      <td>4.91</td>\n",
       "      <td>4.5</td>\n",
       "      <td>5.28</td>\n",
       "      <td>5.18</td>\n",
       "    </tr>\n",
       "  </tbody>\n",
       "</table>\n",
       "</div>"
      ],
      "text/plain": [
       "       country  1995  1996  1997  1998  1999  2000  2001  2002  2003  2004  \\\n",
       "0  Afghanistan   NaN   NaN   NaN   NaN   NaN   NaN   NaN  1.24  2.03  2.51   \n",
       "\n",
       "   2005  2006  2007  2008  2009  2010  \n",
       "0  4.11  4.27  4.91   4.5  5.28  5.18  "
      ]
     },
     "execution_count": 4,
     "metadata": {},
     "output_type": "execute_result"
    }
   ],
   "source": [
    "health_df.info()\n",
    "health_df.head(1)"
   ]
  },
  {
   "cell_type": "markdown",
   "metadata": {},
   "source": [
    "#### Life expectancy (years)"
   ]
  },
  {
   "cell_type": "code",
   "execution_count": 5,
   "metadata": {},
   "outputs": [
    {
     "name": "stdout",
     "output_type": "stream",
     "text": [
      "<class 'pandas.core.frame.DataFrame'>\n",
      "RangeIndex: 187 entries, 0 to 186\n",
      "Columns: 302 entries, country to 2100\n",
      "dtypes: float64(301), object(1)\n",
      "memory usage: 441.3+ KB\n"
     ]
    },
    {
     "data": {
      "text/html": [
       "<div>\n",
       "<style scoped>\n",
       "    .dataframe tbody tr th:only-of-type {\n",
       "        vertical-align: middle;\n",
       "    }\n",
       "\n",
       "    .dataframe tbody tr th {\n",
       "        vertical-align: top;\n",
       "    }\n",
       "\n",
       "    .dataframe thead th {\n",
       "        text-align: right;\n",
       "    }\n",
       "</style>\n",
       "<table border=\"1\" class=\"dataframe\">\n",
       "  <thead>\n",
       "    <tr style=\"text-align: right;\">\n",
       "      <th></th>\n",
       "      <th>country</th>\n",
       "      <th>1800</th>\n",
       "      <th>1801</th>\n",
       "      <th>1802</th>\n",
       "      <th>1803</th>\n",
       "      <th>1804</th>\n",
       "      <th>1805</th>\n",
       "      <th>1806</th>\n",
       "      <th>1807</th>\n",
       "      <th>1808</th>\n",
       "      <th>...</th>\n",
       "      <th>2091</th>\n",
       "      <th>2092</th>\n",
       "      <th>2093</th>\n",
       "      <th>2094</th>\n",
       "      <th>2095</th>\n",
       "      <th>2096</th>\n",
       "      <th>2097</th>\n",
       "      <th>2098</th>\n",
       "      <th>2099</th>\n",
       "      <th>2100</th>\n",
       "    </tr>\n",
       "  </thead>\n",
       "  <tbody>\n",
       "    <tr>\n",
       "      <th>0</th>\n",
       "      <td>Afghanistan</td>\n",
       "      <td>28.2</td>\n",
       "      <td>28.2</td>\n",
       "      <td>28.2</td>\n",
       "      <td>28.2</td>\n",
       "      <td>28.2</td>\n",
       "      <td>28.2</td>\n",
       "      <td>28.1</td>\n",
       "      <td>28.1</td>\n",
       "      <td>28.1</td>\n",
       "      <td>...</td>\n",
       "      <td>76.5</td>\n",
       "      <td>76.6</td>\n",
       "      <td>76.7</td>\n",
       "      <td>76.9</td>\n",
       "      <td>77.0</td>\n",
       "      <td>77.1</td>\n",
       "      <td>77.3</td>\n",
       "      <td>77.4</td>\n",
       "      <td>77.5</td>\n",
       "      <td>77.7</td>\n",
       "    </tr>\n",
       "  </tbody>\n",
       "</table>\n",
       "<p>1 rows × 302 columns</p>\n",
       "</div>"
      ],
      "text/plain": [
       "       country  1800  1801  1802  1803  1804  1805  1806  1807  1808  ...  \\\n",
       "0  Afghanistan  28.2  28.2  28.2  28.2  28.2  28.2  28.1  28.1  28.1  ...   \n",
       "\n",
       "   2091  2092  2093  2094  2095  2096  2097  2098  2099  2100  \n",
       "0  76.5  76.6  76.7  76.9  77.0  77.1  77.3  77.4  77.5  77.7  \n",
       "\n",
       "[1 rows x 302 columns]"
      ]
     },
     "execution_count": 5,
     "metadata": {},
     "output_type": "execute_result"
    }
   ],
   "source": [
    "life_df.info()\n",
    "life_df.head(1)"
   ]
  },
  {
   "cell_type": "markdown",
   "metadata": {},
   "source": [
    "#### Suicides (per 100000 people)"
   ]
  },
  {
   "cell_type": "code",
   "execution_count": 6,
   "metadata": {},
   "outputs": [
    {
     "name": "stdout",
     "output_type": "stream",
     "text": [
      "<class 'pandas.core.frame.DataFrame'>\n",
      "RangeIndex: 104 entries, 0 to 103\n",
      "Data columns (total 68 columns):\n",
      " #   Column   Non-Null Count  Dtype  \n",
      "---  ------   --------------  -----  \n",
      " 0   country  104 non-null    object \n",
      " 1   1950     10 non-null     float64\n",
      " 2   1951     17 non-null     float64\n",
      " 3   1952     19 non-null     float64\n",
      " 4   1953     19 non-null     float64\n",
      " 5   1954     20 non-null     float64\n",
      " 6   1955     29 non-null     float64\n",
      " 7   1956     29 non-null     float64\n",
      " 8   1957     30 non-null     float64\n",
      " 9   1958     32 non-null     float64\n",
      " 10  1959     32 non-null     float64\n",
      " 11  1960     33 non-null     float64\n",
      " 12  1961     37 non-null     float64\n",
      " 13  1962     35 non-null     float64\n",
      " 14  1963     39 non-null     float64\n",
      " 15  1964     37 non-null     float64\n",
      " 16  1965     35 non-null     float64\n",
      " 17  1966     36 non-null     float64\n",
      " 18  1967     40 non-null     float64\n",
      " 19  1968     39 non-null     float64\n",
      " 20  1969     40 non-null     float64\n",
      " 21  1970     39 non-null     float64\n",
      " 22  1971     40 non-null     float64\n",
      " 23  1972     39 non-null     float64\n",
      " 24  1973     40 non-null     float64\n",
      " 25  1974     39 non-null     float64\n",
      " 26  1975     42 non-null     float64\n",
      " 27  1976     41 non-null     float64\n",
      " 28  1977     41 non-null     float64\n",
      " 29  1978     42 non-null     float64\n",
      " 30  1979     41 non-null     float64\n",
      " 31  1980     46 non-null     float64\n",
      " 32  1981     57 non-null     float64\n",
      " 33  1982     60 non-null     float64\n",
      " 34  1983     47 non-null     float64\n",
      " 35  1984     50 non-null     float64\n",
      " 36  1985     71 non-null     float64\n",
      " 37  1986     66 non-null     float64\n",
      " 38  1987     66 non-null     float64\n",
      " 39  1988     62 non-null     float64\n",
      " 40  1989     59 non-null     float64\n",
      " 41  1990     62 non-null     float64\n",
      " 42  1991     60 non-null     float64\n",
      " 43  1992     63 non-null     float64\n",
      " 44  1993     65 non-null     float64\n",
      " 45  1994     65 non-null     float64\n",
      " 46  1995     62 non-null     float64\n",
      " 47  1996     56 non-null     float64\n",
      " 48  1997     54 non-null     float64\n",
      " 49  1998     55 non-null     float64\n",
      " 50  1999     54 non-null     float64\n",
      " 51  2000     53 non-null     float64\n",
      " 52  2001     53 non-null     float64\n",
      " 53  2002     51 non-null     float64\n",
      " 54  2003     49 non-null     float64\n",
      " 55  2004     49 non-null     float64\n",
      " 56  2005     48 non-null     float64\n",
      " 57  2006     44 non-null     float64\n",
      " 58  2007     51 non-null     float64\n",
      " 59  2008     52 non-null     float64\n",
      " 60  2009     50 non-null     float64\n",
      " 61  2010     49 non-null     float64\n",
      " 62  2011     50 non-null     float64\n",
      " 63  2012     50 non-null     float64\n",
      " 64  2013     49 non-null     float64\n",
      " 65  2014     49 non-null     float64\n",
      " 66  2015     39 non-null     float64\n",
      " 67  2016     14 non-null     float64\n",
      "dtypes: float64(67), object(1)\n",
      "memory usage: 55.4+ KB\n"
     ]
    },
    {
     "data": {
      "text/html": [
       "<div>\n",
       "<style scoped>\n",
       "    .dataframe tbody tr th:only-of-type {\n",
       "        vertical-align: middle;\n",
       "    }\n",
       "\n",
       "    .dataframe tbody tr th {\n",
       "        vertical-align: top;\n",
       "    }\n",
       "\n",
       "    .dataframe thead th {\n",
       "        text-align: right;\n",
       "    }\n",
       "</style>\n",
       "<table border=\"1\" class=\"dataframe\">\n",
       "  <thead>\n",
       "    <tr style=\"text-align: right;\">\n",
       "      <th></th>\n",
       "      <th>country</th>\n",
       "      <th>1950</th>\n",
       "      <th>1951</th>\n",
       "      <th>1952</th>\n",
       "      <th>1953</th>\n",
       "      <th>1954</th>\n",
       "      <th>1955</th>\n",
       "      <th>1956</th>\n",
       "      <th>1957</th>\n",
       "      <th>1958</th>\n",
       "      <th>...</th>\n",
       "      <th>2007</th>\n",
       "      <th>2008</th>\n",
       "      <th>2009</th>\n",
       "      <th>2010</th>\n",
       "      <th>2011</th>\n",
       "      <th>2012</th>\n",
       "      <th>2013</th>\n",
       "      <th>2014</th>\n",
       "      <th>2015</th>\n",
       "      <th>2016</th>\n",
       "    </tr>\n",
       "  </thead>\n",
       "  <tbody>\n",
       "    <tr>\n",
       "      <th>0</th>\n",
       "      <td>Albania</td>\n",
       "      <td>NaN</td>\n",
       "      <td>NaN</td>\n",
       "      <td>NaN</td>\n",
       "      <td>NaN</td>\n",
       "      <td>NaN</td>\n",
       "      <td>NaN</td>\n",
       "      <td>NaN</td>\n",
       "      <td>NaN</td>\n",
       "      <td>NaN</td>\n",
       "      <td>...</td>\n",
       "      <td>4.06</td>\n",
       "      <td>5.34</td>\n",
       "      <td>NaN</td>\n",
       "      <td>3.08</td>\n",
       "      <td>NaN</td>\n",
       "      <td>NaN</td>\n",
       "      <td>NaN</td>\n",
       "      <td>NaN</td>\n",
       "      <td>NaN</td>\n",
       "      <td>NaN</td>\n",
       "    </tr>\n",
       "  </tbody>\n",
       "</table>\n",
       "<p>1 rows × 68 columns</p>\n",
       "</div>"
      ],
      "text/plain": [
       "   country  1950  1951  1952  1953  1954  1955  1956  1957  1958  ...  2007  \\\n",
       "0  Albania   NaN   NaN   NaN   NaN   NaN   NaN   NaN   NaN   NaN  ...  4.06   \n",
       "\n",
       "   2008  2009  2010  2011  2012  2013  2014  2015  2016  \n",
       "0  5.34   NaN  3.08   NaN   NaN   NaN   NaN   NaN   NaN  \n",
       "\n",
       "[1 rows x 68 columns]"
      ]
     },
     "execution_count": 6,
     "metadata": {},
     "output_type": "execute_result"
    }
   ],
   "source": [
    "suicide_df.info()\n",
    "suicide_df.head(1)"
   ]
  },
  {
   "cell_type": "markdown",
   "metadata": {},
   "source": [
    "### Data Cleaning"
   ]
  },
  {
   "cell_type": "markdown",
   "metadata": {},
   "source": [
    "Seems like all four imported datasets:\n",
    "- gdp_total_yearly_growth.csv\n",
    "- government_health_spending_per_person_international_dollar.csv\n",
    "- life_expectancy_years.csv\n",
    "- suicide_per_100000_people.csv)\n",
    "\n",
    "have `country` in the first column as an object or string with the rest of the columns representing years with data contained as floats. Not all dataframes have the same number of columns or rows so it appears the time span of years as well as the list of countries differs between these dataframes. This isnt a deal breaker as we can try to answer some of the questions with a single dataset. The other research questions might involve merging some of the dataframes together so on second thought lets go ahead right now and try to normalize the `country` and year columns across the four dataframes. "
   ]
  },
  {
   "cell_type": "code",
   "execution_count": 7,
   "metadata": {},
   "outputs": [
    {
     "name": "stdout",
     "output_type": "stream",
     "text": [
      "True - no duplicated rows in df\n",
      "(194, 214)\n",
      "True - no duplicated rows in df\n",
      "(190, 17)\n",
      "True - no duplicated rows in df\n",
      "(187, 302)\n",
      "True - no duplicated rows in df\n",
      "(104, 68)\n"
     ]
    }
   ],
   "source": [
    "# lets put all the dataframes in a list to make cleaning easier since they're all somewhat similar in structure \n",
    "dfs = [gpd_df, health_df, life_df, suicide_df]\n",
    "\n",
    "# Let's check for duplicates\n",
    "for df in dfs:\n",
    "    print((len(df[df.duplicated(keep=False)])== 0),\"- no duplicated rows in df\")\n",
    "    print(df.shape)"
   ]
  },
  {
   "cell_type": "code",
   "execution_count": 8,
   "metadata": {},
   "outputs": [
    {
     "name": "stdout",
     "output_type": "stream",
     "text": [
      "(194, 214)\n",
      "(190, 17)\n",
      "(187, 302)\n",
      "(104, 68)\n"
     ]
    }
   ],
   "source": [
    "# Let's drop any rows that have NaNs in the whole row\n",
    "for df in dfs:\n",
    "    df.dropna(axis=0, how='all', inplace=True)\n",
    "    print(df.shape)"
   ]
  },
  {
   "cell_type": "code",
   "execution_count": 9,
   "metadata": {},
   "outputs": [
    {
     "name": "stdout",
     "output_type": "stream",
     "text": [
      "True - a country exists in index\n",
      "True - a country exists in index\n",
      "True - a country exists in index\n",
      "True - a country exists in index\n"
     ]
    }
   ],
   "source": [
    "# And now let's set the index to the `country` column in them all to make concatenation easier\n",
    "for df in dfs:\n",
    "    df.set_index('country', inplace=True)\n",
    "    print('United States' in df.index, \"- a country exists in index\") # check that index contains country or 'United States' in the indexs"
   ]
  },
  {
   "cell_type": "code",
   "execution_count": 10,
   "metadata": {},
   "outputs": [
    {
     "data": {
      "text/html": [
       "<div>\n",
       "<style scoped>\n",
       "    .dataframe tbody tr th:only-of-type {\n",
       "        vertical-align: middle;\n",
       "    }\n",
       "\n",
       "    .dataframe tbody tr th {\n",
       "        vertical-align: top;\n",
       "    }\n",
       "\n",
       "    .dataframe thead th {\n",
       "        text-align: right;\n",
       "    }\n",
       "</style>\n",
       "<table border=\"1\" class=\"dataframe\">\n",
       "  <thead>\n",
       "    <tr style=\"text-align: right;\">\n",
       "      <th></th>\n",
       "      <th>1801</th>\n",
       "      <th>1802</th>\n",
       "      <th>1803</th>\n",
       "      <th>1804</th>\n",
       "      <th>1805</th>\n",
       "      <th>1806</th>\n",
       "      <th>1807</th>\n",
       "      <th>1808</th>\n",
       "      <th>1809</th>\n",
       "      <th>1810</th>\n",
       "      <th>...</th>\n",
       "      <th>2004</th>\n",
       "      <th>2005</th>\n",
       "      <th>2006</th>\n",
       "      <th>2007</th>\n",
       "      <th>2008</th>\n",
       "      <th>2009</th>\n",
       "      <th>2010</th>\n",
       "      <th>2011</th>\n",
       "      <th>2012</th>\n",
       "      <th>2013</th>\n",
       "    </tr>\n",
       "    <tr>\n",
       "      <th>country</th>\n",
       "      <th></th>\n",
       "      <th></th>\n",
       "      <th></th>\n",
       "      <th></th>\n",
       "      <th></th>\n",
       "      <th></th>\n",
       "      <th></th>\n",
       "      <th></th>\n",
       "      <th></th>\n",
       "      <th></th>\n",
       "      <th></th>\n",
       "      <th></th>\n",
       "      <th></th>\n",
       "      <th></th>\n",
       "      <th></th>\n",
       "      <th></th>\n",
       "      <th></th>\n",
       "      <th></th>\n",
       "      <th></th>\n",
       "      <th></th>\n",
       "      <th></th>\n",
       "    </tr>\n",
       "  </thead>\n",
       "  <tbody>\n",
       "    <tr>\n",
       "      <th>Afghanistan</th>\n",
       "      <td>0.0</td>\n",
       "      <td>0.0</td>\n",
       "      <td>0.0</td>\n",
       "      <td>0.0</td>\n",
       "      <td>0.0</td>\n",
       "      <td>0.0</td>\n",
       "      <td>0.0</td>\n",
       "      <td>0.0</td>\n",
       "      <td>0.0</td>\n",
       "      <td>0.0</td>\n",
       "      <td>...</td>\n",
       "      <td>6.55</td>\n",
       "      <td>12.4</td>\n",
       "      <td>4.56</td>\n",
       "      <td>13.6</td>\n",
       "      <td>2.5</td>\n",
       "      <td>20.2</td>\n",
       "      <td>8.04</td>\n",
       "      <td>6.98</td>\n",
       "      <td>14.8</td>\n",
       "      <td>4.47</td>\n",
       "    </tr>\n",
       "  </tbody>\n",
       "</table>\n",
       "<p>1 rows × 213 columns</p>\n",
       "</div>"
      ],
      "text/plain": [
       "             1801  1802  1803  1804  1805  1806  1807  1808  1809  1810  ...  \\\n",
       "country                                                                  ...   \n",
       "Afghanistan   0.0   0.0   0.0   0.0   0.0   0.0   0.0   0.0   0.0   0.0  ...   \n",
       "\n",
       "             2004  2005  2006  2007  2008  2009  2010  2011  2012  2013  \n",
       "country                                                                  \n",
       "Afghanistan  6.55  12.4  4.56  13.6   2.5  20.2  8.04  6.98  14.8  4.47  \n",
       "\n",
       "[1 rows x 213 columns]"
      ]
     },
     "execution_count": 10,
     "metadata": {},
     "output_type": "execute_result"
    }
   ],
   "source": [
    "# strip and lower the columns even though this might not be needed but could eliminate hiding white spaces in the columns\n",
    "for df in dfs:\n",
    "    df.rename(columns=lambda x: x.strip().lower(), inplace=True)\n",
    "gpd_df.head(1)"
   ]
  },
  {
   "cell_type": "code",
   "execution_count": 11,
   "metadata": {},
   "outputs": [],
   "source": [
    "# now lets concatinate all four dataframes on `country`, use names parameter to create a column called dataframe\n",
    "# which will hold the keys or specifically which dataframe that row of data came from\n",
    "df = pd.concat(dfs, keys=['gdp', 'health_spend', 'life_exp', 'suicide'], names=['dataframe']).reset_index(level=0).sort_index()\n",
    "# now let's reset the index to make it easier to slice and view\n",
    "df.reset_index(inplace=True)"
   ]
  },
  {
   "cell_type": "code",
   "execution_count": 12,
   "metadata": {},
   "outputs": [
    {
     "data": {
      "text/html": [
       "<div>\n",
       "<style scoped>\n",
       "    .dataframe tbody tr th:only-of-type {\n",
       "        vertical-align: middle;\n",
       "    }\n",
       "\n",
       "    .dataframe tbody tr th {\n",
       "        vertical-align: top;\n",
       "    }\n",
       "\n",
       "    .dataframe thead th {\n",
       "        text-align: right;\n",
       "    }\n",
       "</style>\n",
       "<table border=\"1\" class=\"dataframe\">\n",
       "  <thead>\n",
       "    <tr style=\"text-align: right;\">\n",
       "      <th></th>\n",
       "      <th>country</th>\n",
       "      <th>dataframe</th>\n",
       "      <th>1801</th>\n",
       "      <th>1802</th>\n",
       "      <th>1803</th>\n",
       "      <th>1804</th>\n",
       "      <th>1805</th>\n",
       "      <th>1806</th>\n",
       "      <th>1807</th>\n",
       "      <th>1808</th>\n",
       "      <th>...</th>\n",
       "      <th>2091</th>\n",
       "      <th>2092</th>\n",
       "      <th>2093</th>\n",
       "      <th>2094</th>\n",
       "      <th>2095</th>\n",
       "      <th>2096</th>\n",
       "      <th>2097</th>\n",
       "      <th>2098</th>\n",
       "      <th>2099</th>\n",
       "      <th>2100</th>\n",
       "    </tr>\n",
       "  </thead>\n",
       "  <tbody>\n",
       "    <tr>\n",
       "      <th>644</th>\n",
       "      <td>United States</td>\n",
       "      <td>suicide</td>\n",
       "      <td>NaN</td>\n",
       "      <td>NaN</td>\n",
       "      <td>NaN</td>\n",
       "      <td>NaN</td>\n",
       "      <td>NaN</td>\n",
       "      <td>NaN</td>\n",
       "      <td>NaN</td>\n",
       "      <td>NaN</td>\n",
       "      <td>...</td>\n",
       "      <td>NaN</td>\n",
       "      <td>NaN</td>\n",
       "      <td>NaN</td>\n",
       "      <td>NaN</td>\n",
       "      <td>NaN</td>\n",
       "      <td>NaN</td>\n",
       "      <td>NaN</td>\n",
       "      <td>NaN</td>\n",
       "      <td>NaN</td>\n",
       "      <td>NaN</td>\n",
       "    </tr>\n",
       "    <tr>\n",
       "      <th>645</th>\n",
       "      <td>United States</td>\n",
       "      <td>gdp</td>\n",
       "      <td>3.82</td>\n",
       "      <td>3.56</td>\n",
       "      <td>0.263</td>\n",
       "      <td>1.86</td>\n",
       "      <td>4.02</td>\n",
       "      <td>3.83</td>\n",
       "      <td>2.9</td>\n",
       "      <td>-5.21</td>\n",
       "      <td>...</td>\n",
       "      <td>NaN</td>\n",
       "      <td>NaN</td>\n",
       "      <td>NaN</td>\n",
       "      <td>NaN</td>\n",
       "      <td>NaN</td>\n",
       "      <td>NaN</td>\n",
       "      <td>NaN</td>\n",
       "      <td>NaN</td>\n",
       "      <td>NaN</td>\n",
       "      <td>NaN</td>\n",
       "    </tr>\n",
       "    <tr>\n",
       "      <th>646</th>\n",
       "      <td>United States</td>\n",
       "      <td>life_exp</td>\n",
       "      <td>39.40</td>\n",
       "      <td>39.40</td>\n",
       "      <td>39.400</td>\n",
       "      <td>39.40</td>\n",
       "      <td>39.40</td>\n",
       "      <td>39.40</td>\n",
       "      <td>39.4</td>\n",
       "      <td>39.40</td>\n",
       "      <td>...</td>\n",
       "      <td>87.6</td>\n",
       "      <td>87.7</td>\n",
       "      <td>87.8</td>\n",
       "      <td>87.9</td>\n",
       "      <td>88.0</td>\n",
       "      <td>88.1</td>\n",
       "      <td>88.2</td>\n",
       "      <td>88.3</td>\n",
       "      <td>88.4</td>\n",
       "      <td>88.5</td>\n",
       "    </tr>\n",
       "    <tr>\n",
       "      <th>647</th>\n",
       "      <td>United States</td>\n",
       "      <td>health_spend</td>\n",
       "      <td>NaN</td>\n",
       "      <td>NaN</td>\n",
       "      <td>NaN</td>\n",
       "      <td>NaN</td>\n",
       "      <td>NaN</td>\n",
       "      <td>NaN</td>\n",
       "      <td>NaN</td>\n",
       "      <td>NaN</td>\n",
       "      <td>...</td>\n",
       "      <td>NaN</td>\n",
       "      <td>NaN</td>\n",
       "      <td>NaN</td>\n",
       "      <td>NaN</td>\n",
       "      <td>NaN</td>\n",
       "      <td>NaN</td>\n",
       "      <td>NaN</td>\n",
       "      <td>NaN</td>\n",
       "      <td>NaN</td>\n",
       "      <td>NaN</td>\n",
       "    </tr>\n",
       "  </tbody>\n",
       "</table>\n",
       "<p>4 rows × 303 columns</p>\n",
       "</div>"
      ],
      "text/plain": [
       "           country     dataframe   1801   1802    1803   1804   1805   1806  \\\n",
       "644  United States       suicide    NaN    NaN     NaN    NaN    NaN    NaN   \n",
       "645  United States           gdp   3.82   3.56   0.263   1.86   4.02   3.83   \n",
       "646  United States      life_exp  39.40  39.40  39.400  39.40  39.40  39.40   \n",
       "647  United States  health_spend    NaN    NaN     NaN    NaN    NaN    NaN   \n",
       "\n",
       "     1807   1808  ...  2091  2092  2093  2094  2095  2096  2097  2098  2099  \\\n",
       "644   NaN    NaN  ...   NaN   NaN   NaN   NaN   NaN   NaN   NaN   NaN   NaN   \n",
       "645   2.9  -5.21  ...   NaN   NaN   NaN   NaN   NaN   NaN   NaN   NaN   NaN   \n",
       "646  39.4  39.40  ...  87.6  87.7  87.8  87.9  88.0  88.1  88.2  88.3  88.4   \n",
       "647   NaN    NaN  ...   NaN   NaN   NaN   NaN   NaN   NaN   NaN   NaN   NaN   \n",
       "\n",
       "     2100  \n",
       "644   NaN  \n",
       "645   NaN  \n",
       "646  88.5  \n",
       "647   NaN  \n",
       "\n",
       "[4 rows x 303 columns]"
      ]
     },
     "execution_count": 12,
     "metadata": {},
     "output_type": "execute_result"
    }
   ],
   "source": [
    "df[df.country == 'United States']"
   ]
  },
  {
   "cell_type": "code",
   "execution_count": 13,
   "metadata": {},
   "outputs": [
    {
     "name": "stdout",
     "output_type": "stream",
     "text": [
      "True\n",
      "True\n",
      "True\n",
      "True\n"
     ]
    }
   ],
   "source": [
    "# Now lets check to make sure that the old values from the four dataframes are in the new concated one\n",
    "print((df[df['country'] == 'United States']['2004'][645]) == gpd_df['2004']['United States'])\n",
    "print((df[df['country'] == 'United States']['2004'][646]) == life_df['2004']['United States'])\n",
    "print(df[df['country'] == 'United States']['2004'][644] == suicide_df['2004']['United States'])\n",
    "print(df[df['country'] == 'United States']['2004'][647] == health_df['2004']['United States'])"
   ]
  },
  {
   "cell_type": "code",
   "execution_count": 14,
   "metadata": {},
   "outputs": [
    {
     "data": {
      "text/plain": [
       "(675, 303)"
      ]
     },
     "execution_count": 14,
     "metadata": {},
     "output_type": "execute_result"
    }
   ],
   "source": [
    "df.shape\n",
    "# Now let's trim this down a bit"
   ]
  },
  {
   "cell_type": "code",
   "execution_count": 15,
   "metadata": {},
   "outputs": [
    {
     "data": {
      "text/plain": [
       "Index(['2083', '2084', '2085', '2086', '2087', '2088', '2089', '2090', '2091',\n",
       "       '2092', '2093', '2094', '2095', '2096', '2097', '2098', '2099', '2100',\n",
       "       'country', 'dataframe'],\n",
       "      dtype='object')"
      ]
     },
     "execution_count": 15,
     "metadata": {},
     "output_type": "execute_result"
    }
   ],
   "source": [
    "# the combined dataframe has more columns now since one of the dataframes had projected data in it\n",
    "df.columns.sort_values()[-20:]"
   ]
  },
  {
   "cell_type": "code",
   "execution_count": 16,
   "metadata": {},
   "outputs": [
    {
     "data": {
      "text/html": [
       "<div>\n",
       "<style scoped>\n",
       "    .dataframe tbody tr th:only-of-type {\n",
       "        vertical-align: middle;\n",
       "    }\n",
       "\n",
       "    .dataframe tbody tr th {\n",
       "        vertical-align: top;\n",
       "    }\n",
       "\n",
       "    .dataframe thead th {\n",
       "        text-align: right;\n",
       "    }\n",
       "</style>\n",
       "<table border=\"1\" class=\"dataframe\">\n",
       "  <thead>\n",
       "    <tr style=\"text-align: right;\">\n",
       "      <th></th>\n",
       "      <th>country</th>\n",
       "      <th>dataframe</th>\n",
       "      <th>1801</th>\n",
       "      <th>1802</th>\n",
       "      <th>1803</th>\n",
       "      <th>1804</th>\n",
       "      <th>1805</th>\n",
       "      <th>1806</th>\n",
       "      <th>1807</th>\n",
       "      <th>1808</th>\n",
       "      <th>...</th>\n",
       "      <th>2012</th>\n",
       "      <th>2013</th>\n",
       "      <th>1800</th>\n",
       "      <th>2014</th>\n",
       "      <th>2015</th>\n",
       "      <th>2016</th>\n",
       "      <th>2017</th>\n",
       "      <th>2018</th>\n",
       "      <th>2019</th>\n",
       "      <th>2020</th>\n",
       "    </tr>\n",
       "  </thead>\n",
       "  <tbody>\n",
       "    <tr>\n",
       "      <th>0</th>\n",
       "      <td>Afghanistan</td>\n",
       "      <td>gdp</td>\n",
       "      <td>0.000</td>\n",
       "      <td>0.000</td>\n",
       "      <td>0.000</td>\n",
       "      <td>0.000</td>\n",
       "      <td>0.000</td>\n",
       "      <td>0.000</td>\n",
       "      <td>0.000</td>\n",
       "      <td>0.000</td>\n",
       "      <td>...</td>\n",
       "      <td>14.80</td>\n",
       "      <td>4.47</td>\n",
       "      <td>NaN</td>\n",
       "      <td>NaN</td>\n",
       "      <td>NaN</td>\n",
       "      <td>NaN</td>\n",
       "      <td>NaN</td>\n",
       "      <td>NaN</td>\n",
       "      <td>NaN</td>\n",
       "      <td>NaN</td>\n",
       "    </tr>\n",
       "    <tr>\n",
       "      <th>1</th>\n",
       "      <td>Afghanistan</td>\n",
       "      <td>life_exp</td>\n",
       "      <td>28.200</td>\n",
       "      <td>28.200</td>\n",
       "      <td>28.200</td>\n",
       "      <td>28.200</td>\n",
       "      <td>28.200</td>\n",
       "      <td>28.100</td>\n",
       "      <td>28.100</td>\n",
       "      <td>28.100</td>\n",
       "      <td>...</td>\n",
       "      <td>60.80</td>\n",
       "      <td>61.30</td>\n",
       "      <td>28.2</td>\n",
       "      <td>61.2</td>\n",
       "      <td>61.2</td>\n",
       "      <td>61.2</td>\n",
       "      <td>63.4</td>\n",
       "      <td>63.7</td>\n",
       "      <td>64.1</td>\n",
       "      <td>64.4</td>\n",
       "    </tr>\n",
       "    <tr>\n",
       "      <th>2</th>\n",
       "      <td>Afghanistan</td>\n",
       "      <td>health_spend</td>\n",
       "      <td>NaN</td>\n",
       "      <td>NaN</td>\n",
       "      <td>NaN</td>\n",
       "      <td>NaN</td>\n",
       "      <td>NaN</td>\n",
       "      <td>NaN</td>\n",
       "      <td>NaN</td>\n",
       "      <td>NaN</td>\n",
       "      <td>...</td>\n",
       "      <td>NaN</td>\n",
       "      <td>NaN</td>\n",
       "      <td>NaN</td>\n",
       "      <td>NaN</td>\n",
       "      <td>NaN</td>\n",
       "      <td>NaN</td>\n",
       "      <td>NaN</td>\n",
       "      <td>NaN</td>\n",
       "      <td>NaN</td>\n",
       "      <td>NaN</td>\n",
       "    </tr>\n",
       "    <tr>\n",
       "      <th>3</th>\n",
       "      <td>Albania</td>\n",
       "      <td>gdp</td>\n",
       "      <td>0.418</td>\n",
       "      <td>0.418</td>\n",
       "      <td>0.418</td>\n",
       "      <td>0.418</td>\n",
       "      <td>0.418</td>\n",
       "      <td>0.418</td>\n",
       "      <td>0.418</td>\n",
       "      <td>0.418</td>\n",
       "      <td>...</td>\n",
       "      <td>2.64</td>\n",
       "      <td>2.06</td>\n",
       "      <td>NaN</td>\n",
       "      <td>NaN</td>\n",
       "      <td>NaN</td>\n",
       "      <td>NaN</td>\n",
       "      <td>NaN</td>\n",
       "      <td>NaN</td>\n",
       "      <td>NaN</td>\n",
       "      <td>NaN</td>\n",
       "    </tr>\n",
       "    <tr>\n",
       "      <th>4</th>\n",
       "      <td>Albania</td>\n",
       "      <td>life_exp</td>\n",
       "      <td>35.400</td>\n",
       "      <td>35.400</td>\n",
       "      <td>35.400</td>\n",
       "      <td>35.400</td>\n",
       "      <td>35.400</td>\n",
       "      <td>35.400</td>\n",
       "      <td>35.400</td>\n",
       "      <td>35.400</td>\n",
       "      <td>...</td>\n",
       "      <td>77.80</td>\n",
       "      <td>77.90</td>\n",
       "      <td>35.4</td>\n",
       "      <td>77.9</td>\n",
       "      <td>78.0</td>\n",
       "      <td>78.1</td>\n",
       "      <td>78.2</td>\n",
       "      <td>78.3</td>\n",
       "      <td>78.5</td>\n",
       "      <td>78.6</td>\n",
       "    </tr>\n",
       "  </tbody>\n",
       "</table>\n",
       "<p>5 rows × 223 columns</p>\n",
       "</div>"
      ],
      "text/plain": [
       "       country     dataframe    1801    1802    1803    1804    1805    1806  \\\n",
       "0  Afghanistan           gdp   0.000   0.000   0.000   0.000   0.000   0.000   \n",
       "1  Afghanistan      life_exp  28.200  28.200  28.200  28.200  28.200  28.100   \n",
       "2  Afghanistan  health_spend     NaN     NaN     NaN     NaN     NaN     NaN   \n",
       "3      Albania           gdp   0.418   0.418   0.418   0.418   0.418   0.418   \n",
       "4      Albania      life_exp  35.400  35.400  35.400  35.400  35.400  35.400   \n",
       "\n",
       "     1807    1808  ...   2012   2013  1800  2014  2015  2016  2017  2018  \\\n",
       "0   0.000   0.000  ...  14.80   4.47   NaN   NaN   NaN   NaN   NaN   NaN   \n",
       "1  28.100  28.100  ...  60.80  61.30  28.2  61.2  61.2  61.2  63.4  63.7   \n",
       "2     NaN     NaN  ...    NaN    NaN   NaN   NaN   NaN   NaN   NaN   NaN   \n",
       "3   0.418   0.418  ...   2.64   2.06   NaN   NaN   NaN   NaN   NaN   NaN   \n",
       "4  35.400  35.400  ...  77.80  77.90  35.4  77.9  78.0  78.1  78.2  78.3   \n",
       "\n",
       "   2019  2020  \n",
       "0   NaN   NaN  \n",
       "1  64.1  64.4  \n",
       "2   NaN   NaN  \n",
       "3   NaN   NaN  \n",
       "4  78.5  78.6  \n",
       "\n",
       "[5 rows x 223 columns]"
      ]
     },
     "execution_count": 16,
     "metadata": {},
     "output_type": "execute_result"
    }
   ],
   "source": [
    "# let's drop those future columns from 2021 and beyond\n",
    "df.drop(axis=1, labels=list(df.columns.sort_values()[(int(np.where(df.columns.sort_values() == '2021')[0])):-2]), inplace=True) # drop all years beyond 2020\n",
    "df.head()"
   ]
  },
  {
   "cell_type": "code",
   "execution_count": 17,
   "metadata": {},
   "outputs": [
    {
     "name": "stdout",
     "output_type": "stream",
     "text": [
      "<class 'pandas.core.frame.DataFrame'>\n",
      "RangeIndex: 675 entries, 0 to 674\n",
      "Columns: 223 entries, country to 2020\n",
      "dtypes: float64(221), object(2)\n",
      "memory usage: 1.1+ MB\n"
     ]
    }
   ],
   "source": [
    "# Now we have a combined dataframe merged on `country` with each country containing a row of data from each of the\n",
    "# four dataframes that we are analyzing. We have another column titled 'dataframe' which indicates which original\n",
    "# dataset that row of data came from. We also have years filling out the rest of the columns going from 1801 to 2020\n",
    "# and we reset the index. No we can use filtering, querying or other means to select subsets of the data very easily.\n",
    "df.info()"
   ]
  },
  {
   "cell_type": "code",
   "execution_count": 18,
   "metadata": {},
   "outputs": [
    {
     "data": {
      "text/html": [
       "<div>\n",
       "<style scoped>\n",
       "    .dataframe tbody tr th:only-of-type {\n",
       "        vertical-align: middle;\n",
       "    }\n",
       "\n",
       "    .dataframe tbody tr th {\n",
       "        vertical-align: top;\n",
       "    }\n",
       "\n",
       "    .dataframe thead th {\n",
       "        text-align: right;\n",
       "    }\n",
       "</style>\n",
       "<table border=\"1\" class=\"dataframe\">\n",
       "  <thead>\n",
       "    <tr style=\"text-align: right;\">\n",
       "      <th></th>\n",
       "      <th>country</th>\n",
       "      <th>dataframe</th>\n",
       "      <th>1801</th>\n",
       "      <th>1802</th>\n",
       "      <th>1803</th>\n",
       "      <th>1804</th>\n",
       "      <th>1805</th>\n",
       "      <th>1806</th>\n",
       "      <th>1807</th>\n",
       "      <th>1808</th>\n",
       "      <th>...</th>\n",
       "      <th>2012</th>\n",
       "      <th>2013</th>\n",
       "      <th>1800</th>\n",
       "      <th>2014</th>\n",
       "      <th>2015</th>\n",
       "      <th>2016</th>\n",
       "      <th>2017</th>\n",
       "      <th>2018</th>\n",
       "      <th>2019</th>\n",
       "      <th>2020</th>\n",
       "    </tr>\n",
       "  </thead>\n",
       "  <tbody>\n",
       "    <tr>\n",
       "      <th>0</th>\n",
       "      <td>Afghanistan</td>\n",
       "      <td>gdp</td>\n",
       "      <td>0.000</td>\n",
       "      <td>0.000</td>\n",
       "      <td>0.000</td>\n",
       "      <td>0.000</td>\n",
       "      <td>0.000</td>\n",
       "      <td>0.000</td>\n",
       "      <td>0.000</td>\n",
       "      <td>0.000</td>\n",
       "      <td>...</td>\n",
       "      <td>14.80</td>\n",
       "      <td>4.47</td>\n",
       "      <td>NaN</td>\n",
       "      <td>NaN</td>\n",
       "      <td>NaN</td>\n",
       "      <td>NaN</td>\n",
       "      <td>NaN</td>\n",
       "      <td>NaN</td>\n",
       "      <td>NaN</td>\n",
       "      <td>NaN</td>\n",
       "    </tr>\n",
       "    <tr>\n",
       "      <th>1</th>\n",
       "      <td>Afghanistan</td>\n",
       "      <td>life_exp</td>\n",
       "      <td>28.200</td>\n",
       "      <td>28.200</td>\n",
       "      <td>28.200</td>\n",
       "      <td>28.200</td>\n",
       "      <td>28.200</td>\n",
       "      <td>28.100</td>\n",
       "      <td>28.100</td>\n",
       "      <td>28.100</td>\n",
       "      <td>...</td>\n",
       "      <td>60.80</td>\n",
       "      <td>61.30</td>\n",
       "      <td>28.2</td>\n",
       "      <td>61.2</td>\n",
       "      <td>61.2</td>\n",
       "      <td>61.2</td>\n",
       "      <td>63.4</td>\n",
       "      <td>63.7</td>\n",
       "      <td>64.1</td>\n",
       "      <td>64.4</td>\n",
       "    </tr>\n",
       "    <tr>\n",
       "      <th>2</th>\n",
       "      <td>Afghanistan</td>\n",
       "      <td>health_spend</td>\n",
       "      <td>NaN</td>\n",
       "      <td>NaN</td>\n",
       "      <td>NaN</td>\n",
       "      <td>NaN</td>\n",
       "      <td>NaN</td>\n",
       "      <td>NaN</td>\n",
       "      <td>NaN</td>\n",
       "      <td>NaN</td>\n",
       "      <td>...</td>\n",
       "      <td>NaN</td>\n",
       "      <td>NaN</td>\n",
       "      <td>NaN</td>\n",
       "      <td>NaN</td>\n",
       "      <td>NaN</td>\n",
       "      <td>NaN</td>\n",
       "      <td>NaN</td>\n",
       "      <td>NaN</td>\n",
       "      <td>NaN</td>\n",
       "      <td>NaN</td>\n",
       "    </tr>\n",
       "    <tr>\n",
       "      <th>3</th>\n",
       "      <td>Albania</td>\n",
       "      <td>gdp</td>\n",
       "      <td>0.418</td>\n",
       "      <td>0.418</td>\n",
       "      <td>0.418</td>\n",
       "      <td>0.418</td>\n",
       "      <td>0.418</td>\n",
       "      <td>0.418</td>\n",
       "      <td>0.418</td>\n",
       "      <td>0.418</td>\n",
       "      <td>...</td>\n",
       "      <td>2.64</td>\n",
       "      <td>2.06</td>\n",
       "      <td>NaN</td>\n",
       "      <td>NaN</td>\n",
       "      <td>NaN</td>\n",
       "      <td>NaN</td>\n",
       "      <td>NaN</td>\n",
       "      <td>NaN</td>\n",
       "      <td>NaN</td>\n",
       "      <td>NaN</td>\n",
       "    </tr>\n",
       "    <tr>\n",
       "      <th>4</th>\n",
       "      <td>Albania</td>\n",
       "      <td>life_exp</td>\n",
       "      <td>35.400</td>\n",
       "      <td>35.400</td>\n",
       "      <td>35.400</td>\n",
       "      <td>35.400</td>\n",
       "      <td>35.400</td>\n",
       "      <td>35.400</td>\n",
       "      <td>35.400</td>\n",
       "      <td>35.400</td>\n",
       "      <td>...</td>\n",
       "      <td>77.80</td>\n",
       "      <td>77.90</td>\n",
       "      <td>35.4</td>\n",
       "      <td>77.9</td>\n",
       "      <td>78.0</td>\n",
       "      <td>78.1</td>\n",
       "      <td>78.2</td>\n",
       "      <td>78.3</td>\n",
       "      <td>78.5</td>\n",
       "      <td>78.6</td>\n",
       "    </tr>\n",
       "    <tr>\n",
       "      <th>5</th>\n",
       "      <td>Albania</td>\n",
       "      <td>suicide</td>\n",
       "      <td>NaN</td>\n",
       "      <td>NaN</td>\n",
       "      <td>NaN</td>\n",
       "      <td>NaN</td>\n",
       "      <td>NaN</td>\n",
       "      <td>NaN</td>\n",
       "      <td>NaN</td>\n",
       "      <td>NaN</td>\n",
       "      <td>...</td>\n",
       "      <td>NaN</td>\n",
       "      <td>NaN</td>\n",
       "      <td>NaN</td>\n",
       "      <td>NaN</td>\n",
       "      <td>NaN</td>\n",
       "      <td>NaN</td>\n",
       "      <td>NaN</td>\n",
       "      <td>NaN</td>\n",
       "      <td>NaN</td>\n",
       "      <td>NaN</td>\n",
       "    </tr>\n",
       "    <tr>\n",
       "      <th>6</th>\n",
       "      <td>Albania</td>\n",
       "      <td>health_spend</td>\n",
       "      <td>NaN</td>\n",
       "      <td>NaN</td>\n",
       "      <td>NaN</td>\n",
       "      <td>NaN</td>\n",
       "      <td>NaN</td>\n",
       "      <td>NaN</td>\n",
       "      <td>NaN</td>\n",
       "      <td>NaN</td>\n",
       "      <td>...</td>\n",
       "      <td>NaN</td>\n",
       "      <td>NaN</td>\n",
       "      <td>NaN</td>\n",
       "      <td>NaN</td>\n",
       "      <td>NaN</td>\n",
       "      <td>NaN</td>\n",
       "      <td>NaN</td>\n",
       "      <td>NaN</td>\n",
       "      <td>NaN</td>\n",
       "      <td>NaN</td>\n",
       "    </tr>\n",
       "    <tr>\n",
       "      <th>7</th>\n",
       "      <td>Algeria</td>\n",
       "      <td>life_exp</td>\n",
       "      <td>28.800</td>\n",
       "      <td>28.800</td>\n",
       "      <td>28.800</td>\n",
       "      <td>28.800</td>\n",
       "      <td>28.800</td>\n",
       "      <td>28.800</td>\n",
       "      <td>28.800</td>\n",
       "      <td>28.800</td>\n",
       "      <td>...</td>\n",
       "      <td>76.80</td>\n",
       "      <td>76.90</td>\n",
       "      <td>28.8</td>\n",
       "      <td>77.0</td>\n",
       "      <td>77.1</td>\n",
       "      <td>77.4</td>\n",
       "      <td>77.7</td>\n",
       "      <td>77.9</td>\n",
       "      <td>78.1</td>\n",
       "      <td>78.3</td>\n",
       "    </tr>\n",
       "    <tr>\n",
       "      <th>8</th>\n",
       "      <td>Algeria</td>\n",
       "      <td>health_spend</td>\n",
       "      <td>NaN</td>\n",
       "      <td>NaN</td>\n",
       "      <td>NaN</td>\n",
       "      <td>NaN</td>\n",
       "      <td>NaN</td>\n",
       "      <td>NaN</td>\n",
       "      <td>NaN</td>\n",
       "      <td>NaN</td>\n",
       "      <td>...</td>\n",
       "      <td>NaN</td>\n",
       "      <td>NaN</td>\n",
       "      <td>NaN</td>\n",
       "      <td>NaN</td>\n",
       "      <td>NaN</td>\n",
       "      <td>NaN</td>\n",
       "      <td>NaN</td>\n",
       "      <td>NaN</td>\n",
       "      <td>NaN</td>\n",
       "      <td>NaN</td>\n",
       "    </tr>\n",
       "    <tr>\n",
       "      <th>9</th>\n",
       "      <td>Algeria</td>\n",
       "      <td>gdp</td>\n",
       "      <td>0.356</td>\n",
       "      <td>0.356</td>\n",
       "      <td>0.356</td>\n",
       "      <td>0.356</td>\n",
       "      <td>0.356</td>\n",
       "      <td>0.356</td>\n",
       "      <td>0.356</td>\n",
       "      <td>0.356</td>\n",
       "      <td>...</td>\n",
       "      <td>2.58</td>\n",
       "      <td>2.99</td>\n",
       "      <td>NaN</td>\n",
       "      <td>NaN</td>\n",
       "      <td>NaN</td>\n",
       "      <td>NaN</td>\n",
       "      <td>NaN</td>\n",
       "      <td>NaN</td>\n",
       "      <td>NaN</td>\n",
       "      <td>NaN</td>\n",
       "    </tr>\n",
       "  </tbody>\n",
       "</table>\n",
       "<p>10 rows × 223 columns</p>\n",
       "</div>"
      ],
      "text/plain": [
       "       country     dataframe    1801    1802    1803    1804    1805    1806  \\\n",
       "0  Afghanistan           gdp   0.000   0.000   0.000   0.000   0.000   0.000   \n",
       "1  Afghanistan      life_exp  28.200  28.200  28.200  28.200  28.200  28.100   \n",
       "2  Afghanistan  health_spend     NaN     NaN     NaN     NaN     NaN     NaN   \n",
       "3      Albania           gdp   0.418   0.418   0.418   0.418   0.418   0.418   \n",
       "4      Albania      life_exp  35.400  35.400  35.400  35.400  35.400  35.400   \n",
       "5      Albania       suicide     NaN     NaN     NaN     NaN     NaN     NaN   \n",
       "6      Albania  health_spend     NaN     NaN     NaN     NaN     NaN     NaN   \n",
       "7      Algeria      life_exp  28.800  28.800  28.800  28.800  28.800  28.800   \n",
       "8      Algeria  health_spend     NaN     NaN     NaN     NaN     NaN     NaN   \n",
       "9      Algeria           gdp   0.356   0.356   0.356   0.356   0.356   0.356   \n",
       "\n",
       "     1807    1808  ...   2012   2013  1800  2014  2015  2016  2017  2018  \\\n",
       "0   0.000   0.000  ...  14.80   4.47   NaN   NaN   NaN   NaN   NaN   NaN   \n",
       "1  28.100  28.100  ...  60.80  61.30  28.2  61.2  61.2  61.2  63.4  63.7   \n",
       "2     NaN     NaN  ...    NaN    NaN   NaN   NaN   NaN   NaN   NaN   NaN   \n",
       "3   0.418   0.418  ...   2.64   2.06   NaN   NaN   NaN   NaN   NaN   NaN   \n",
       "4  35.400  35.400  ...  77.80  77.90  35.4  77.9  78.0  78.1  78.2  78.3   \n",
       "5     NaN     NaN  ...    NaN    NaN   NaN   NaN   NaN   NaN   NaN   NaN   \n",
       "6     NaN     NaN  ...    NaN    NaN   NaN   NaN   NaN   NaN   NaN   NaN   \n",
       "7  28.800  28.800  ...  76.80  76.90  28.8  77.0  77.1  77.4  77.7  77.9   \n",
       "8     NaN     NaN  ...    NaN    NaN   NaN   NaN   NaN   NaN   NaN   NaN   \n",
       "9   0.356   0.356  ...   2.58   2.99   NaN   NaN   NaN   NaN   NaN   NaN   \n",
       "\n",
       "   2019  2020  \n",
       "0   NaN   NaN  \n",
       "1  64.1  64.4  \n",
       "2   NaN   NaN  \n",
       "3   NaN   NaN  \n",
       "4  78.5  78.6  \n",
       "5   NaN   NaN  \n",
       "6   NaN   NaN  \n",
       "7  78.1  78.3  \n",
       "8   NaN   NaN  \n",
       "9   NaN   NaN  \n",
       "\n",
       "[10 rows x 223 columns]"
      ]
     },
     "execution_count": 18,
     "metadata": {},
     "output_type": "execute_result"
    }
   ],
   "source": [
    "df.head(10)"
   ]
  },
  {
   "cell_type": "markdown",
   "metadata": {},
   "source": [
    "<a id='eda'></a>\n",
    "## Exploratory Data Analysis\n",
    "\n",
    "### Research Question 1 - What countries have the highest suicides?\n",
    "\n",
    "So let's start answering the questions, first addressing what countries have the highest suicides. We'll grab the data and whittle it down a bit so that we are focusing our attention on the top 20 ranked countries. We'll achieve this by filtering down to the last 100 years (1920-2020), dropping the rows that have a higher than average count of NaNs in the row compared to the total subset so we have a more complete dataset and then return the top 20. We'll use a horizontal bar chart to communicate the top 20 ranking. Focusing on the top 20 gives you more space in your figure to visualize the needed data and make it more readable for the end consumer than if we didnt. We used the mean across the years to get the average suicides (per 100000 people) for each country. You could have easily just summed it up and rank but I wanted to try to account for swings in the data and really analyze the long, steady trend of suicides (per 100000 people) for these countries hence the mean but completely subjective here. In the figure below you'll see Lithuania at 32.6, Hungary 27.5, and Lativia 24.7 ranked the highest in suicides per 10000 people."
   ]
  },
  {
   "cell_type": "code",
   "execution_count": 19,
   "metadata": {},
   "outputs": [],
   "source": [
    "# first let's select a subset of rows from the dataframe that contain the suicide data we need\n",
    "s_df = df.query('dataframe == \"suicide\"')"
   ]
  },
  {
   "cell_type": "code",
   "execution_count": 20,
   "metadata": {},
   "outputs": [
    {
     "data": {
      "text/plain": [
       "(104, 223)"
      ]
     },
     "execution_count": 20,
     "metadata": {},
     "output_type": "execute_result"
    }
   ],
   "source": [
    "# drop any rows with NaN in all of it\n",
    "s_df = s_df.dropna(axis=0, how='all' )\n",
    "s_df.shape"
   ]
  },
  {
   "cell_type": "code",
   "execution_count": 21,
   "metadata": {},
   "outputs": [],
   "source": [
    "# Let's also look at the last 100 years and since this is all suicide data we can drop the `dataframe` column as well\n",
    "# We'll throw this into a function since we'll use it again\n",
    "def last_100(df):\n",
    "    \"\"\"Takes a dataFrame object with 'YYYY' datetime columns\n",
    "    and drops columns before year `1920` and returns modified dataframe.\"\"\"\n",
    "    try:\n",
    "        labels = list(df.columns.sort_values()[0:(int(np.where(df.columns.sort_values() == '1920')[0]))])+['dataframe'] # assign the columns we want to drop\n",
    "        df.drop(axis=1, labels=labels, inplace=True)\n",
    "        return df\n",
    "    except:\n",
    "        \"error\""
   ]
  },
  {
   "cell_type": "code",
   "execution_count": 22,
   "metadata": {},
   "outputs": [
    {
     "data": {
      "text/plain": [
       "104"
      ]
     },
     "execution_count": 22,
     "metadata": {},
     "output_type": "execute_result"
    }
   ],
   "source": [
    "s_df = last_100(s_df)\n",
    "s_df.country.nunique()"
   ]
  },
  {
   "cell_type": "code",
   "execution_count": 23,
   "metadata": {},
   "outputs": [],
   "source": [
    "s_df.head()\n",
    "s_df.set_index('country', inplace=True)"
   ]
  },
  {
   "cell_type": "code",
   "execution_count": 24,
   "metadata": {},
   "outputs": [
    {
     "data": {
      "text/plain": [
       "country\n",
       "Albania                 82\n",
       "Antigua and Barbuda    100\n",
       "Argentina               76\n",
       "Armenia                 74\n",
       "Australia               36\n",
       "                      ... \n",
       "United Kingdom          36\n",
       "United States           43\n",
       "Uruguay                 68\n",
       "Uzbekistan              78\n",
       "Venezuela               63\n",
       "Length: 104, dtype: int64"
      ]
     },
     "execution_count": 24,
     "metadata": {},
     "output_type": "execute_result"
    }
   ],
   "source": [
    "# Looks like we have 104 unique countries or rows so lets see how many of them have NaNs across the years or columns\n",
    "# instead of having data in them\n",
    "s_df.isnull().sum(axis=1)"
   ]
  },
  {
   "cell_type": "code",
   "execution_count": 25,
   "metadata": {},
   "outputs": [
    {
     "data": {
      "text/plain": [
       "72.23076923076923"
      ]
     },
     "execution_count": 25,
     "metadata": {},
     "output_type": "execute_result"
    }
   ],
   "source": [
    "avg_nan = s_df.isnull().sum(axis=1).mean()\n",
    "avg_nan\n",
    "# the average number of NaNs across all the columns is 74.."
   ]
  },
  {
   "cell_type": "code",
   "execution_count": 26,
   "metadata": {},
   "outputs": [
    {
     "data": {
      "text/plain": [
       "(46, 101)"
      ]
     },
     "execution_count": 26,
     "metadata": {},
     "output_type": "execute_result"
    }
   ],
   "source": [
    "# so let's grab those rows that have less NaNs then the mean, meaning they have more than the average number\n",
    "# of columns with data in them so a more complete dataset\n",
    "s_df2_index = s_df.isnull().sum(axis=1)[s_df.isnull().sum(axis=1) < avg_nan].index\n",
    "\n",
    "# filter the df index by the list of rows above and return those rows into a new variable\n",
    "s_df2 = s_df[s_df.index.isin(s_df2_index)]\n",
    "\n",
    "s_df2.shape\n",
    "# now we still have 103 columns of data or from years 1920 to 2020 and we have 46 rows or countries"
   ]
  },
  {
   "cell_type": "code",
   "execution_count": 27,
   "metadata": {},
   "outputs": [
    {
     "data": {
      "text/plain": [
       "(20, 101)"
      ]
     },
     "execution_count": 27,
     "metadata": {},
     "output_type": "execute_result"
    }
   ],
   "source": [
    "# Now lets get the mean suicides (per 100000 people) across the rows or per country and sort the values\n",
    "# We'll also return only the top 20 to make graphing cleaner\n",
    "s_df2_index = s_df2.mean(axis=1).sort_values(ascending=False)[:20].index\n",
    "\n",
    "# filter the df index again by the list of rows above and return those rows into a new variable\n",
    "s_df2 = s_df[s_df.index.isin(s_df2_index)]\n",
    "s_df2.shape"
   ]
  },
  {
   "cell_type": "code",
   "execution_count": 28,
   "metadata": {},
   "outputs": [],
   "source": [
    "# groupby country, average across the rows and sort\n",
    "data = s_df2.mean(axis=1).sort_values()"
   ]
  },
  {
   "cell_type": "markdown",
   "metadata": {},
   "source": [
    "#### What countries have the  highest suicides?"
   ]
  },
  {
   "cell_type": "code",
   "execution_count": 29,
   "metadata": {},
   "outputs": [
    {
     "name": "stdout",
     "output_type": "stream",
     "text": [
      "Suicides (per 100000 people) - mortality due to self-inflicted injury, per 100,000 standard population, age adjusted.This rate is calculated as if all countries had the same age compostion of the population.\n",
      "\n",
      "sourceLink: https://ghdx.healthdata.org/gbd-2017\n"
     ]
    },
    {
     "data": {
      "image/png": "[encoded data removed]",
      "text/plain": [
       "<Figure size 1080x576 with 1 Axes>"
      ]
     },
     "metadata": {
      "needs_background": "light"
     },
     "output_type": "display_data"
    }
   ],
   "source": [
    "# plot the data\n",
    "ax = data.plot(kind='barh', \n",
    "          figsize = (15,8), \n",
    "          title='Top 20 Mean suicides (per 100000 people) from 1920-2020',\n",
    "          fontsize = 12\n",
    "         );\n",
    "ax.set_xlabel('Mean suicides (per 100000 people)')\n",
    "ax.set_ylabel('Countries')\n",
    "text = (\n",
    "    f\"Suicides (per 100000 people) - mortality due to self-inflicted injury, per 100,000 standard population, age adjusted.\"\n",
    "    f\"This rate is calculated as if all countries had the same age compostion of the population.\\n\\n\"\n",
    "    f\"sourceLink: https://ghdx.healthdata.org/gbd-2017\"\n",
    ")\n",
    "print(text)"
   ]
  },
  {
   "cell_type": "markdown",
   "metadata": {},
   "source": [
    "### Research Question 2 - What countries have the highest life expectancy?\n",
    "\n",
    "Now that we've finished addressing what countries have the highest suicides it's time to see what countries have the highest life expectancy. We'll grab the data and reduce it as before filtering down to the last 100 years (1920-2020), dropping the rows that have a higher than average count of NaNs in the row compared to the total subset so we have a more complete dataset and then return the top 20. We'll continue using a horizontal bar chart to communicate the top 20 ranking and again used a mean which actually makes more sense here. We'll also adjust the x-min since all the countries in the top 20 are very close in value which makes it difficult seeing the difference in the chart below when the x-min on the x-axis is zero so we'll move it to half of the overall mean of the dataset and then add a buffer to the x-max as well to stretch out the scale of the x-axis and make it easier to consume the chart. The countries with the highest life expectancy are Sweden with 73.5, Norway 73.2 years, and Netherlands at 72.9 years a newborn child would live."
   ]
  },
  {
   "cell_type": "code",
   "execution_count": 30,
   "metadata": {},
   "outputs": [
    {
     "data": {
      "text/html": [
       "<div>\n",
       "<style scoped>\n",
       "    .dataframe tbody tr th:only-of-type {\n",
       "        vertical-align: middle;\n",
       "    }\n",
       "\n",
       "    .dataframe tbody tr th {\n",
       "        vertical-align: top;\n",
       "    }\n",
       "\n",
       "    .dataframe thead th {\n",
       "        text-align: right;\n",
       "    }\n",
       "</style>\n",
       "<table border=\"1\" class=\"dataframe\">\n",
       "  <thead>\n",
       "    <tr style=\"text-align: right;\">\n",
       "      <th></th>\n",
       "      <th>country</th>\n",
       "      <th>dataframe</th>\n",
       "      <th>1801</th>\n",
       "      <th>1802</th>\n",
       "      <th>1803</th>\n",
       "      <th>1804</th>\n",
       "      <th>1805</th>\n",
       "      <th>1806</th>\n",
       "      <th>1807</th>\n",
       "      <th>1808</th>\n",
       "      <th>...</th>\n",
       "      <th>2012</th>\n",
       "      <th>2013</th>\n",
       "      <th>1800</th>\n",
       "      <th>2014</th>\n",
       "      <th>2015</th>\n",
       "      <th>2016</th>\n",
       "      <th>2017</th>\n",
       "      <th>2018</th>\n",
       "      <th>2019</th>\n",
       "      <th>2020</th>\n",
       "    </tr>\n",
       "  </thead>\n",
       "  <tbody>\n",
       "    <tr>\n",
       "      <th>1</th>\n",
       "      <td>Afghanistan</td>\n",
       "      <td>life_exp</td>\n",
       "      <td>28.2</td>\n",
       "      <td>28.2</td>\n",
       "      <td>28.2</td>\n",
       "      <td>28.2</td>\n",
       "      <td>28.2</td>\n",
       "      <td>28.1</td>\n",
       "      <td>28.1</td>\n",
       "      <td>28.1</td>\n",
       "      <td>...</td>\n",
       "      <td>60.8</td>\n",
       "      <td>61.3</td>\n",
       "      <td>28.2</td>\n",
       "      <td>61.2</td>\n",
       "      <td>61.2</td>\n",
       "      <td>61.2</td>\n",
       "      <td>63.4</td>\n",
       "      <td>63.7</td>\n",
       "      <td>64.1</td>\n",
       "      <td>64.4</td>\n",
       "    </tr>\n",
       "    <tr>\n",
       "      <th>4</th>\n",
       "      <td>Albania</td>\n",
       "      <td>life_exp</td>\n",
       "      <td>35.4</td>\n",
       "      <td>35.4</td>\n",
       "      <td>35.4</td>\n",
       "      <td>35.4</td>\n",
       "      <td>35.4</td>\n",
       "      <td>35.4</td>\n",
       "      <td>35.4</td>\n",
       "      <td>35.4</td>\n",
       "      <td>...</td>\n",
       "      <td>77.8</td>\n",
       "      <td>77.9</td>\n",
       "      <td>35.4</td>\n",
       "      <td>77.9</td>\n",
       "      <td>78.0</td>\n",
       "      <td>78.1</td>\n",
       "      <td>78.2</td>\n",
       "      <td>78.3</td>\n",
       "      <td>78.5</td>\n",
       "      <td>78.6</td>\n",
       "    </tr>\n",
       "    <tr>\n",
       "      <th>7</th>\n",
       "      <td>Algeria</td>\n",
       "      <td>life_exp</td>\n",
       "      <td>28.8</td>\n",
       "      <td>28.8</td>\n",
       "      <td>28.8</td>\n",
       "      <td>28.8</td>\n",
       "      <td>28.8</td>\n",
       "      <td>28.8</td>\n",
       "      <td>28.8</td>\n",
       "      <td>28.8</td>\n",
       "      <td>...</td>\n",
       "      <td>76.8</td>\n",
       "      <td>76.9</td>\n",
       "      <td>28.8</td>\n",
       "      <td>77.0</td>\n",
       "      <td>77.1</td>\n",
       "      <td>77.4</td>\n",
       "      <td>77.7</td>\n",
       "      <td>77.9</td>\n",
       "      <td>78.1</td>\n",
       "      <td>78.3</td>\n",
       "    </tr>\n",
       "    <tr>\n",
       "      <th>10</th>\n",
       "      <td>Andorra</td>\n",
       "      <td>life_exp</td>\n",
       "      <td>NaN</td>\n",
       "      <td>NaN</td>\n",
       "      <td>NaN</td>\n",
       "      <td>NaN</td>\n",
       "      <td>NaN</td>\n",
       "      <td>NaN</td>\n",
       "      <td>NaN</td>\n",
       "      <td>NaN</td>\n",
       "      <td>...</td>\n",
       "      <td>82.4</td>\n",
       "      <td>82.5</td>\n",
       "      <td>NaN</td>\n",
       "      <td>82.5</td>\n",
       "      <td>82.6</td>\n",
       "      <td>82.7</td>\n",
       "      <td>82.7</td>\n",
       "      <td>NaN</td>\n",
       "      <td>NaN</td>\n",
       "      <td>NaN</td>\n",
       "    </tr>\n",
       "    <tr>\n",
       "      <th>14</th>\n",
       "      <td>Angola</td>\n",
       "      <td>life_exp</td>\n",
       "      <td>27.0</td>\n",
       "      <td>27.0</td>\n",
       "      <td>27.0</td>\n",
       "      <td>27.0</td>\n",
       "      <td>27.0</td>\n",
       "      <td>27.0</td>\n",
       "      <td>27.0</td>\n",
       "      <td>27.0</td>\n",
       "      <td>...</td>\n",
       "      <td>61.3</td>\n",
       "      <td>61.9</td>\n",
       "      <td>27.0</td>\n",
       "      <td>62.8</td>\n",
       "      <td>63.3</td>\n",
       "      <td>63.8</td>\n",
       "      <td>64.2</td>\n",
       "      <td>64.6</td>\n",
       "      <td>65.0</td>\n",
       "      <td>65.4</td>\n",
       "    </tr>\n",
       "    <tr>\n",
       "      <th>...</th>\n",
       "      <td>...</td>\n",
       "      <td>...</td>\n",
       "      <td>...</td>\n",
       "      <td>...</td>\n",
       "      <td>...</td>\n",
       "      <td>...</td>\n",
       "      <td>...</td>\n",
       "      <td>...</td>\n",
       "      <td>...</td>\n",
       "      <td>...</td>\n",
       "      <td>...</td>\n",
       "      <td>...</td>\n",
       "      <td>...</td>\n",
       "      <td>...</td>\n",
       "      <td>...</td>\n",
       "      <td>...</td>\n",
       "      <td>...</td>\n",
       "      <td>...</td>\n",
       "      <td>...</td>\n",
       "      <td>...</td>\n",
       "      <td>...</td>\n",
       "    </tr>\n",
       "    <tr>\n",
       "      <th>660</th>\n",
       "      <td>Venezuela</td>\n",
       "      <td>life_exp</td>\n",
       "      <td>32.2</td>\n",
       "      <td>32.2</td>\n",
       "      <td>32.2</td>\n",
       "      <td>32.2</td>\n",
       "      <td>32.2</td>\n",
       "      <td>32.2</td>\n",
       "      <td>32.2</td>\n",
       "      <td>32.2</td>\n",
       "      <td>...</td>\n",
       "      <td>75.2</td>\n",
       "      <td>75.2</td>\n",
       "      <td>32.2</td>\n",
       "      <td>75.0</td>\n",
       "      <td>75.0</td>\n",
       "      <td>75.3</td>\n",
       "      <td>75.3</td>\n",
       "      <td>75.2</td>\n",
       "      <td>75.1</td>\n",
       "      <td>75.1</td>\n",
       "    </tr>\n",
       "    <tr>\n",
       "      <th>664</th>\n",
       "      <td>Vietnam</td>\n",
       "      <td>life_exp</td>\n",
       "      <td>32.0</td>\n",
       "      <td>32.0</td>\n",
       "      <td>32.0</td>\n",
       "      <td>32.0</td>\n",
       "      <td>32.0</td>\n",
       "      <td>32.0</td>\n",
       "      <td>32.0</td>\n",
       "      <td>32.0</td>\n",
       "      <td>...</td>\n",
       "      <td>73.8</td>\n",
       "      <td>74.0</td>\n",
       "      <td>32.0</td>\n",
       "      <td>74.1</td>\n",
       "      <td>74.3</td>\n",
       "      <td>74.4</td>\n",
       "      <td>74.5</td>\n",
       "      <td>74.6</td>\n",
       "      <td>74.7</td>\n",
       "      <td>74.8</td>\n",
       "    </tr>\n",
       "    <tr>\n",
       "      <th>667</th>\n",
       "      <td>Yemen</td>\n",
       "      <td>life_exp</td>\n",
       "      <td>23.4</td>\n",
       "      <td>23.4</td>\n",
       "      <td>23.4</td>\n",
       "      <td>23.4</td>\n",
       "      <td>23.4</td>\n",
       "      <td>23.4</td>\n",
       "      <td>23.4</td>\n",
       "      <td>23.4</td>\n",
       "      <td>...</td>\n",
       "      <td>68.3</td>\n",
       "      <td>68.9</td>\n",
       "      <td>23.4</td>\n",
       "      <td>69.0</td>\n",
       "      <td>68.6</td>\n",
       "      <td>68.1</td>\n",
       "      <td>68.1</td>\n",
       "      <td>68.1</td>\n",
       "      <td>68.1</td>\n",
       "      <td>68.2</td>\n",
       "    </tr>\n",
       "    <tr>\n",
       "      <th>670</th>\n",
       "      <td>Zambia</td>\n",
       "      <td>life_exp</td>\n",
       "      <td>32.6</td>\n",
       "      <td>32.6</td>\n",
       "      <td>32.6</td>\n",
       "      <td>32.6</td>\n",
       "      <td>32.6</td>\n",
       "      <td>32.6</td>\n",
       "      <td>32.6</td>\n",
       "      <td>32.6</td>\n",
       "      <td>...</td>\n",
       "      <td>58.8</td>\n",
       "      <td>60.0</td>\n",
       "      <td>32.6</td>\n",
       "      <td>61.1</td>\n",
       "      <td>62.0</td>\n",
       "      <td>62.8</td>\n",
       "      <td>63.2</td>\n",
       "      <td>63.7</td>\n",
       "      <td>64.0</td>\n",
       "      <td>64.3</td>\n",
       "    </tr>\n",
       "    <tr>\n",
       "      <th>674</th>\n",
       "      <td>Zimbabwe</td>\n",
       "      <td>life_exp</td>\n",
       "      <td>33.7</td>\n",
       "      <td>33.7</td>\n",
       "      <td>33.7</td>\n",
       "      <td>33.7</td>\n",
       "      <td>33.7</td>\n",
       "      <td>33.7</td>\n",
       "      <td>33.7</td>\n",
       "      <td>33.7</td>\n",
       "      <td>...</td>\n",
       "      <td>54.9</td>\n",
       "      <td>56.8</td>\n",
       "      <td>33.7</td>\n",
       "      <td>58.5</td>\n",
       "      <td>59.6</td>\n",
       "      <td>60.5</td>\n",
       "      <td>61.4</td>\n",
       "      <td>61.7</td>\n",
       "      <td>62.0</td>\n",
       "      <td>62.3</td>\n",
       "    </tr>\n",
       "  </tbody>\n",
       "</table>\n",
       "<p>187 rows × 223 columns</p>\n",
       "</div>"
      ],
      "text/plain": [
       "         country dataframe  1801  1802  1803  1804  1805  1806  1807  1808  \\\n",
       "1    Afghanistan  life_exp  28.2  28.2  28.2  28.2  28.2  28.1  28.1  28.1   \n",
       "4        Albania  life_exp  35.4  35.4  35.4  35.4  35.4  35.4  35.4  35.4   \n",
       "7        Algeria  life_exp  28.8  28.8  28.8  28.8  28.8  28.8  28.8  28.8   \n",
       "10       Andorra  life_exp   NaN   NaN   NaN   NaN   NaN   NaN   NaN   NaN   \n",
       "14        Angola  life_exp  27.0  27.0  27.0  27.0  27.0  27.0  27.0  27.0   \n",
       "..           ...       ...   ...   ...   ...   ...   ...   ...   ...   ...   \n",
       "660    Venezuela  life_exp  32.2  32.2  32.2  32.2  32.2  32.2  32.2  32.2   \n",
       "664      Vietnam  life_exp  32.0  32.0  32.0  32.0  32.0  32.0  32.0  32.0   \n",
       "667        Yemen  life_exp  23.4  23.4  23.4  23.4  23.4  23.4  23.4  23.4   \n",
       "670       Zambia  life_exp  32.6  32.6  32.6  32.6  32.6  32.6  32.6  32.6   \n",
       "674     Zimbabwe  life_exp  33.7  33.7  33.7  33.7  33.7  33.7  33.7  33.7   \n",
       "\n",
       "     ...  2012  2013  1800  2014  2015  2016  2017  2018  2019  2020  \n",
       "1    ...  60.8  61.3  28.2  61.2  61.2  61.2  63.4  63.7  64.1  64.4  \n",
       "4    ...  77.8  77.9  35.4  77.9  78.0  78.1  78.2  78.3  78.5  78.6  \n",
       "7    ...  76.8  76.9  28.8  77.0  77.1  77.4  77.7  77.9  78.1  78.3  \n",
       "10   ...  82.4  82.5   NaN  82.5  82.6  82.7  82.7   NaN   NaN   NaN  \n",
       "14   ...  61.3  61.9  27.0  62.8  63.3  63.8  64.2  64.6  65.0  65.4  \n",
       "..   ...   ...   ...   ...   ...   ...   ...   ...   ...   ...   ...  \n",
       "660  ...  75.2  75.2  32.2  75.0  75.0  75.3  75.3  75.2  75.1  75.1  \n",
       "664  ...  73.8  74.0  32.0  74.1  74.3  74.4  74.5  74.6  74.7  74.8  \n",
       "667  ...  68.3  68.9  23.4  69.0  68.6  68.1  68.1  68.1  68.1  68.2  \n",
       "670  ...  58.8  60.0  32.6  61.1  62.0  62.8  63.2  63.7  64.0  64.3  \n",
       "674  ...  54.9  56.8  33.7  58.5  59.6  60.5  61.4  61.7  62.0  62.3  \n",
       "\n",
       "[187 rows x 223 columns]"
      ]
     },
     "execution_count": 30,
     "metadata": {},
     "output_type": "execute_result"
    }
   ],
   "source": [
    "# first let's select a subset of rows from the dataframe that contain the suicide data we need\n",
    "lf_df = df.query('dataframe == \"life_exp\"')\n",
    "lf_df"
   ]
  },
  {
   "cell_type": "code",
   "execution_count": 31,
   "metadata": {},
   "outputs": [
    {
     "data": {
      "text/plain": [
       "(187, 223)"
      ]
     },
     "execution_count": 31,
     "metadata": {},
     "output_type": "execute_result"
    }
   ],
   "source": [
    "# drop any rows with NaN in all of it\n",
    "lf_df = lf_df.dropna(axis=0, how='all' )\n",
    "lf_df.shape"
   ]
  },
  {
   "cell_type": "code",
   "execution_count": 32,
   "metadata": {},
   "outputs": [
    {
     "data": {
      "text/plain": [
       "(187, 101)"
      ]
     },
     "execution_count": 32,
     "metadata": {},
     "output_type": "execute_result"
    }
   ],
   "source": [
    "# Let's also look as before at the last 100 years and we can drop the `dataframe` column as well\n",
    "lf_df = last_100(lf_df)\n",
    "# set index\n",
    "lf_df.set_index('country', inplace=True)\n",
    "\n",
    "lf_df.shape"
   ]
  },
  {
   "cell_type": "code",
   "execution_count": 33,
   "metadata": {},
   "outputs": [
    {
     "data": {
      "text/plain": [
       "country\n",
       "Afghanistan     0\n",
       "Albania         0\n",
       "Algeria         0\n",
       "Andorra        53\n",
       "Angola          0\n",
       "               ..\n",
       "Venezuela       0\n",
       "Vietnam         0\n",
       "Yemen           0\n",
       "Zambia          0\n",
       "Zimbabwe        0\n",
       "Length: 187, dtype: int64"
      ]
     },
     "execution_count": 33,
     "metadata": {},
     "output_type": "execute_result"
    }
   ],
   "source": [
    "# Looks like we have 187 unique countries or rows so lets see how many of them have NaNs across the years or columns\n",
    "# instead of having data in them\n",
    "lf_df.isnull().sum(axis=1)"
   ]
  },
  {
   "cell_type": "code",
   "execution_count": 34,
   "metadata": {},
   "outputs": [
    {
     "data": {
      "text/plain": [
       "(184, 101)"
      ]
     },
     "execution_count": 34,
     "metadata": {},
     "output_type": "execute_result"
    }
   ],
   "source": [
    "# so let's grab those rows that have less NaNs then the mean, meaning they have more than the average number\n",
    "# of columns with data in them so a more complete dataset\n",
    "avg_nan = round(lf_df.isnull().sum(axis=1).mean())\n",
    "\n",
    "lf_df2_index = lf_df.isnull().sum(axis=1)[lf_df.isnull().sum(axis=1) < avg_nan].index\n",
    "\n",
    "# filter the df index by the list of rows above and return those rows into a new variable\n",
    "lf_df2 = lf_df[lf_df.index.isin(lf_df2_index)]\n",
    "\n",
    "lf_df2.shape\n",
    "# now we still have 103 columns of data or from years 1920 to 2020 and we have 184 rows or countries"
   ]
  },
  {
   "cell_type": "code",
   "execution_count": 35,
   "metadata": {},
   "outputs": [
    {
     "data": {
      "text/plain": [
       "(20, 101)"
      ]
     },
     "execution_count": 35,
     "metadata": {},
     "output_type": "execute_result"
    }
   ],
   "source": [
    "# Now lets get the mean life expectancy (years)across the rows or per country and sort the values\n",
    "# We'll also return only the top 20 to make graphing cleaner\n",
    "lf_df2_index = lf_df2.mean(axis=1).sort_values(ascending=False)[:20].index\n",
    "\n",
    "# filter the df index again by the list of rows above and return those rows into a new variable\n",
    "lf_df2 = lf_df[lf_df.index.isin(lf_df2_index)]\n",
    "lf_df2.shape"
   ]
  },
  {
   "cell_type": "code",
   "execution_count": 36,
   "metadata": {},
   "outputs": [],
   "source": [
    "# groupby country, average across the rows and sort\n",
    "data = lf_df2.mean(axis=1).sort_values()"
   ]
  },
  {
   "cell_type": "markdown",
   "metadata": {},
   "source": [
    "#### What countries have the highest life expectancy?"
   ]
  },
  {
   "cell_type": "code",
   "execution_count": 37,
   "metadata": {},
   "outputs": [
    {
     "name": "stdout",
     "output_type": "stream",
     "text": [
      "Life expectancy (years) - the average number of years a newborn child would live if current mortality patterns were to stay the same.\n",
      "\n",
      "sourceLink: http://gapm.io/ilex\n"
     ]
    },
    {
     "data": {
      "image/png": "[encoded data removed]",
      "text/plain": [
       "<Figure size 1080x576 with 1 Axes>"
      ]
     },
     "metadata": {
      "needs_background": "light"
     },
     "output_type": "display_data"
    }
   ],
   "source": [
    "# plot the data \n",
    "ax = data.plot(kind='barh', \n",
    "          figsize = (15,8), \n",
    "          title='Mean life expectancy (years) from 1920-2020',\n",
    "          fontsize = 12,\n",
    "          xlim= (data.mean()/2, data.max()+ 5),\n",
    "          color='teal',\n",
    "         );\n",
    "ax.set_xlabel('Mean life expectancy (years)')\n",
    "ax.set_ylabel('Countries')\n",
    "text = (\n",
    "    f\"Life expectancy (years) - the average number of years a newborn child would live\"\n",
    "    f\" if current mortality patterns were to stay the same.\\n\\n\"\n",
    "    f\"sourceLink: http://gapm.io/ilex\"\n",
    ")\n",
    "print(text)"
   ]
  },
  {
   "cell_type": "markdown",
   "metadata": {},
   "source": [
    "### Research Question 3 - How has life expectancy trended overtime compared to suicides?\n",
    "\n",
    "With highest life expectancy done it's time to look into some trends. Here we are going to be comparing life expectancy and suicides trended over a time series of years. We'll use the mean as the statistics to calculate and visualize over time. Since the suicide data isnt as complete as the life expectancy dataset we'll trim the timeframe down from 1920 to 2020 to a shorter 1950 to 2020. And since we are graphing time series we'll look at government health spending per person over time as well. Line charts are great for this and what the results show is a slow and steady rise in life expectancy, a decreasing downward trend in suicides, and a rapid growth in government health spending per person."
   ]
  },
  {
   "cell_type": "code",
   "execution_count": 38,
   "metadata": {},
   "outputs": [],
   "source": [
    "# Lets create a dataframe to load the data \n",
    "data = pd.DataFrame()\n",
    "data['life_exp'] = lf_df2.mean()\n",
    "data['suicides'] = s_df2.mean()"
   ]
  },
  {
   "cell_type": "code",
   "execution_count": 39,
   "metadata": {},
   "outputs": [
    {
     "data": {
      "image/png": "[encoded data removed]",
      "text/plain": [
       "<Figure size 1080x576 with 1 Axes>"
      ]
     },
     "metadata": {
      "needs_background": "light"
     },
     "output_type": "display_data"
    }
   ],
   "source": [
    "# Lets graph the combined data over time\n",
    "ax = data.plot(kind='line',\n",
    "          figsize=(15,8),\n",
    "          title='Mean suicides and life expectancy trended 1920-2020');\n",
    "ax.set_xlabel('Years')\n",
    "ax.set_ylabel('Mean life expectancy (years) | Mean suicides (per 100000 people)');"
   ]
  },
  {
   "cell_type": "code",
   "execution_count": 40,
   "metadata": {},
   "outputs": [
    {
     "data": {
      "text/plain": [
       "Index(['1920', '1921', '1922', '1923', '1924', '1925', '1926', '1927', '1928',\n",
       "       '1929', '1930', '1931', '1932', '1933', '1934', '1935', '1936', '1937',\n",
       "       '1938', '1939', '1940', '1941', '1942', '1943', '1944', '1945', '1946',\n",
       "       '1947', '1948', '1949', '2017', '2018', '2019', '2020'],\n",
       "      dtype='object')"
      ]
     },
     "execution_count": 40,
     "metadata": {},
     "output_type": "execute_result"
    }
   ],
   "source": [
    "# In the graph we see some missing suicide data\n",
    "s_df2.columns[s_df2.isnull().all(axis=0)]\n",
    "\n",
    "# and can see it's for these years..."
   ]
  },
  {
   "cell_type": "code",
   "execution_count": 41,
   "metadata": {},
   "outputs": [
    {
     "data": {
      "image/png": "[encoded data removed]",
      "text/plain": [
       "<Figure size 1080x576 with 1 Axes>"
      ]
     },
     "metadata": {
      "needs_background": "light"
     },
     "output_type": "display_data"
    }
   ],
   "source": [
    "# Lets forgot about those empty years...\n",
    "ax = data['1950':].plot(kind='line',\n",
    "          figsize=(15,8),\n",
    "          title='Mean suicides and life expectancy trended 1950-2020');\n",
    "ax.set_xlabel('Years')\n",
    "ax.set_ylabel('Mean life expectancy (years) | Mean suicides (per 100000 people)');"
   ]
  },
  {
   "cell_type": "markdown",
   "metadata": {},
   "source": [
    "While we are at it let's peek at how health spending has trended over the years.."
   ]
  },
  {
   "cell_type": "code",
   "execution_count": 42,
   "metadata": {},
   "outputs": [
    {
     "data": {
      "image/png": "[encoded data removed]",
      "text/plain": [
       "<Figure size 1080x576 with 1 Axes>"
      ]
     },
     "metadata": {
      "needs_background": "light"
     },
     "output_type": "display_data"
    }
   ],
   "source": [
    "# Pull in the health spending data\n",
    "he_df = df.query('dataframe == \"health_spend\"')\n",
    "\n",
    "# drop any rows with NaN in all of it\n",
    "he_df = he_df.dropna(axis=0, how='all' )\n",
    "\n",
    "# Let's also look as before at the last 100 years and we can drop the `dataframe` column as well\n",
    "he_df = last_100(he_df) # uses the `last_100` function\n",
    "\n",
    "# Assign the needed data to a variable\n",
    "data = he_df.mean()\n",
    "\n",
    "# Lets graph the combined data over time\n",
    "ax = data.plot(kind='line',\n",
    "          figsize=(15,8),\n",
    "          title='Govt. health spending per person (international $)');\n",
    "ax.set_xlabel('Year')\n",
    "ax.set_ylabel('International $');"
   ]
  },
  {
   "cell_type": "markdown",
   "metadata": {},
   "source": [
    "### Research Question 4 - Is there a relationship between GDP and suicides?\n",
    "\n",
    "Coming to the end of this analysis we'll explore the association between GDP and suicides. Scatter plots are the bee's-knees when exploring these types of associations so we'll use one here to plot GDP on the X and suicides on the Y axis. We'll go ahead and re-use the Top 20 Mean suicides (per 100000 people) from 1920-2020 dataset in the `s_df2.shape` variable which means we'll have to reduce the GDP dataset to just those 20 countries. After grabbing and wrangling the data we'll sum up across the years, concatinate on the top 20 countries and then graph the scatter plot. This plot will show that a faint positive relationship may exist between the two."
   ]
  },
  {
   "cell_type": "code",
   "execution_count": 43,
   "metadata": {},
   "outputs": [],
   "source": [
    "# Create a new dataframe and pull in the GDP data\n",
    "gdp_df = df.query('dataframe == \"gdp\"')"
   ]
  },
  {
   "cell_type": "code",
   "execution_count": 44,
   "metadata": {},
   "outputs": [
    {
     "data": {
      "text/plain": [
       "(194, 101)"
      ]
     },
     "execution_count": 44,
     "metadata": {},
     "output_type": "execute_result"
    }
   ],
   "source": [
    "# drop any rows with NaN in all of it\n",
    "gdp_df = gdp_df.dropna(axis=0, how='all' )\n",
    "# Only look at the last 100 years and drop `dataframe` column\n",
    "gdp_df = last_100(gdp_df)\n",
    "# Set the index to `country`\n",
    "gdp_df.set_index('country', inplace=True)\n",
    "gdp_df.shape"
   ]
  },
  {
   "cell_type": "code",
   "execution_count": 45,
   "metadata": {},
   "outputs": [
    {
     "data": {
      "text/plain": [
       "(20, 101)"
      ]
     },
     "execution_count": 45,
     "metadata": {},
     "output_type": "execute_result"
    }
   ],
   "source": [
    "s_df2.shape"
   ]
  },
  {
   "cell_type": "code",
   "execution_count": 46,
   "metadata": {},
   "outputs": [],
   "source": [
    "# Since the s_df2 dataframe only has 20 countries, the top 20 by suicides, let's filter gdp_df down to the same countries\n",
    "labels = [c for c in list(gdp_df.index) if c not in list(s_df2.index)]\n",
    "# Then we can drop those rows stores in the `label` variable\n",
    "gdp_df = gdp_df.drop(labels=labels, axis=0)"
   ]
  },
  {
   "cell_type": "code",
   "execution_count": 47,
   "metadata": {},
   "outputs": [
    {
     "data": {
      "text/html": [
       "<div>\n",
       "<style scoped>\n",
       "    .dataframe tbody tr th:only-of-type {\n",
       "        vertical-align: middle;\n",
       "    }\n",
       "\n",
       "    .dataframe tbody tr th {\n",
       "        vertical-align: top;\n",
       "    }\n",
       "\n",
       "    .dataframe thead th {\n",
       "        text-align: right;\n",
       "    }\n",
       "</style>\n",
       "<table border=\"1\" class=\"dataframe\">\n",
       "  <thead>\n",
       "    <tr style=\"text-align: right;\">\n",
       "      <th></th>\n",
       "      <th>suicides</th>\n",
       "      <th>gdp</th>\n",
       "    </tr>\n",
       "    <tr>\n",
       "      <th>country</th>\n",
       "      <th></th>\n",
       "      <th></th>\n",
       "    </tr>\n",
       "  </thead>\n",
       "  <tbody>\n",
       "    <tr>\n",
       "      <th>Austria</th>\n",
       "      <td>1128.85</td>\n",
       "      <td>305.89440</td>\n",
       "    </tr>\n",
       "    <tr>\n",
       "      <th>Belgium</th>\n",
       "      <td>936.20</td>\n",
       "      <td>298.63970</td>\n",
       "    </tr>\n",
       "    <tr>\n",
       "      <th>Croatia</th>\n",
       "      <td>517.20</td>\n",
       "      <td>237.00819</td>\n",
       "    </tr>\n",
       "    <tr>\n",
       "      <th>Czech Republic</th>\n",
       "      <td>415.70</td>\n",
       "      <td>216.81230</td>\n",
       "    </tr>\n",
       "    <tr>\n",
       "      <th>Denmark</th>\n",
       "      <td>1130.94</td>\n",
       "      <td>259.59570</td>\n",
       "    </tr>\n",
       "    <tr>\n",
       "      <th>Estonia</th>\n",
       "      <td>774.10</td>\n",
       "      <td>362.15530</td>\n",
       "    </tr>\n",
       "    <tr>\n",
       "      <th>Finland</th>\n",
       "      <td>1335.80</td>\n",
       "      <td>327.66130</td>\n",
       "    </tr>\n",
       "    <tr>\n",
       "      <th>France</th>\n",
       "      <td>951.80</td>\n",
       "      <td>273.24418</td>\n",
       "    </tr>\n",
       "    <tr>\n",
       "      <th>Hungary</th>\n",
       "      <td>1706.40</td>\n",
       "      <td>203.85250</td>\n",
       "    </tr>\n",
       "    <tr>\n",
       "      <th>Japan</th>\n",
       "      <td>1194.20</td>\n",
       "      <td>380.99150</td>\n",
       "    </tr>\n",
       "    <tr>\n",
       "      <th>Kyrgyz Republic</th>\n",
       "      <td>415.04</td>\n",
       "      <td>241.04500</td>\n",
       "    </tr>\n",
       "    <tr>\n",
       "      <th>Latvia</th>\n",
       "      <td>891.00</td>\n",
       "      <td>368.96000</td>\n",
       "    </tr>\n",
       "    <tr>\n",
       "      <th>Lithuania</th>\n",
       "      <td>1111.00</td>\n",
       "      <td>333.90250</td>\n",
       "    </tr>\n",
       "    <tr>\n",
       "      <th>Luxembourg</th>\n",
       "      <td>627.61</td>\n",
       "      <td>363.14300</td>\n",
       "    </tr>\n",
       "    <tr>\n",
       "      <th>Moldova</th>\n",
       "      <td>548.70</td>\n",
       "      <td>308.65200</td>\n",
       "    </tr>\n",
       "    <tr>\n",
       "      <th>Poland</th>\n",
       "      <td>634.59</td>\n",
       "      <td>268.79800</td>\n",
       "    </tr>\n",
       "    <tr>\n",
       "      <th>Slovenia</th>\n",
       "      <td>689.20</td>\n",
       "      <td>281.93684</td>\n",
       "    </tr>\n",
       "    <tr>\n",
       "      <th>South Korea</th>\n",
       "      <td>490.53</td>\n",
       "      <td>530.38950</td>\n",
       "    </tr>\n",
       "    <tr>\n",
       "      <th>Sweden</th>\n",
       "      <td>951.90</td>\n",
       "      <td>272.44090</td>\n",
       "    </tr>\n",
       "    <tr>\n",
       "      <th>Switzerland</th>\n",
       "      <td>1092.56</td>\n",
       "      <td>261.41369</td>\n",
       "    </tr>\n",
       "  </tbody>\n",
       "</table>\n",
       "</div>"
      ],
      "text/plain": [
       "                 suicides        gdp\n",
       "country                             \n",
       "Austria           1128.85  305.89440\n",
       "Belgium            936.20  298.63970\n",
       "Croatia            517.20  237.00819\n",
       "Czech Republic     415.70  216.81230\n",
       "Denmark           1130.94  259.59570\n",
       "Estonia            774.10  362.15530\n",
       "Finland           1335.80  327.66130\n",
       "France             951.80  273.24418\n",
       "Hungary           1706.40  203.85250\n",
       "Japan             1194.20  380.99150\n",
       "Kyrgyz Republic    415.04  241.04500\n",
       "Latvia             891.00  368.96000\n",
       "Lithuania         1111.00  333.90250\n",
       "Luxembourg         627.61  363.14300\n",
       "Moldova            548.70  308.65200\n",
       "Poland             634.59  268.79800\n",
       "Slovenia           689.20  281.93684\n",
       "South Korea        490.53  530.38950\n",
       "Sweden             951.90  272.44090\n",
       "Switzerland       1092.56  261.41369"
      ]
     },
     "execution_count": 47,
     "metadata": {},
     "output_type": "execute_result"
    }
   ],
   "source": [
    "# Now let's sum up across the years\n",
    "sui = s_df2.sum(axis=1)\n",
    "gdp = gdp_df.sum(axis=1)\n",
    "# And then combine by concatination\n",
    "data = pd.concat([sui,gdp], axis=1, keys=['suicides','gdp'])\n",
    "data"
   ]
  },
  {
   "cell_type": "code",
   "execution_count": 48,
   "metadata": {},
   "outputs": [
    {
     "data": {
      "image/png": "[encoded data removed]",
      "text/plain": [
       "<Figure size 1080x576 with 1 Axes>"
      ]
     },
     "metadata": {
      "needs_background": "light"
     },
     "output_type": "display_data"
    }
   ],
   "source": [
    "# And now we can graph\n",
    "ax = data.plot(kind='scatter',\n",
    "               x='suicides',\n",
    "               y='gdp',\n",
    "               figsize=(15,8),\n",
    "               title='GDP compared to suicides');\n",
    "ax.set_xlabel('Suicides (per 100000 people)')\n",
    "ax.set_ylabel('GDP total, yearly growth per capita');"
   ]
  },
  {
   "cell_type": "markdown",
   "metadata": {},
   "source": [
    "<a id='conclusions'></a>\n",
    "## Conclusions"
   ]
  },
  {
   "cell_type": "markdown",
   "metadata": {},
   "source": [
    "In conclusion, when looking at what countries have the highest suicides in appears based on the data that Lithuania, Hungary, and Lativia rank the highest with 32.6, 27.5, and 24.7 suicides per 10000 people respectively.\n",
    "\n",
    "\n",
    "The countries with the highest life expectancy based on the data used appears to favor nordic countries such as Sweden with 73.5 number of years a newborn child would live, Norway 73.2 years, and Netherlands at 72.9, followed by Iceland at 72.9.\n",
    "\n",
    "\n",
    "When exploring life expectancy trended overtime compared to suicides one can see life expectancy trending mostly positively through out the years starting a long trend from 1950 to current day. Compared to suicides one can see them peaking around the 1980's but have since steadily decreased. \n",
    "\n",
    "\n",
    "Finally, when comparing the countries with the highest suicides to see if there is a relationship between GDP and suicides it appears that a faint positive relationship may exist between the two but the data this is based on does appear to have some outliers, both countries with GDP and low suicides and low GDP and many suicides, which would have to be explored further to see if it makes sense to keep them in the analysis.\n",
    "\n",
    "#### Limitations\n",
    "Further univariate analysis of both the GDP and suicide data would be needed to explore deeper any outliers, extreme variance, or other errors in the data. I would also like to explore the collection methods and timeframe for the data sets to make sure that they are the best suited to explore these relationships. For example, the less complete or less years collected of the suicide data could indicate sub-optimal collection methods and their may be a more complete data set available. Additionally, I would like to use stats like, pearson r , to specifically quantify the association between these variables."
   ]
  }
 ],
 "metadata": {
  "kernelspec": {
   "display_name": "Python 3",
   "language": "python",
   "name": "python3"
  },
  "language_info": {
   "codemirror_mode": {
    "name": "ipython",
    "version": 3
   },
   "file_extension": ".py",
   "mimetype": "text/x-python",
   "name": "python",
   "nbconvert_exporter": "python",
   "pygments_lexer": "ipython3",
   "version": "3.8.2"
  }
 },
 "nbformat": 4,
 "nbformat_minor": 2
}
